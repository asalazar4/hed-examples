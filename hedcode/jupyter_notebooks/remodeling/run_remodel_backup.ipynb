{
 "cells": [
  {
   "cell_type": "markdown",
   "metadata": {
    "collapsed": true,
    "pycharm": {
     "name": "#%% md\n"
    }
   },
   "source": [
    "# Backup the event files in a dataset\n",
    "\n",
    "This notebook calls `run_remodel_backup(arglist)` with a list of parameters from the following table\n",
    "to back up the events in a dataset.\n",
    "\n",
    "| parameter | default | dest | other | meaning |\n",
    "| --------- | ------- | ---- | ----- | ------- |\n",
    "| data_dir  |         | data_dir |   |  Full path of dataset root directory. |,\n",
    "| -n, --backup_name | default_back | backup_name |  | Name of the default backup for remodeling. |\n",
    "| -t, --task-names | []   |task_names | nargs=* | The name of the task. |\n",
    "| -x, --exclude-dirs | [] | exclude_dirs | nargs=* | Directories names to exclude from search for files. <br/>If omitted, no directories except the backup directory will be excluded. <br/>Note data_dir/remodel/backup will always be excluded. |\n",
    "| -f, --file-suffix | ['events'] | file_suffix |  nargs=* | Filename suffix of files to be backed up. <br/>A * indicates all files allowed. |\n",
    "| -e, --extensions | ['.tsv'] | extensions | nargs=* |File extensions to allow in locating files. <br/> A * indicates all files allowed. |\n",
    "| -v, --verbose |   | verbose |action=store_true | If present, output informative messages as computation progresses. |"
   ]
  },
  {
   "cell_type": "code",
   "execution_count": 1,
   "outputs": [
    {
     "name": "stdout",
     "output_type": "stream",
     "text": [
      "A backup test_backup has been created.\n"
     ]
    }
   ],
   "source": [
    "import os\n",
    "import hed.tools.remodeling.cli.run_remodel_backup as cli_backup\n",
    "\n",
    "data_root = os.path.realpath('../../../datasets/eeg_ds003645s_hed_remodel')\n",
    "backup_name = 'test_backup'\n",
    "backup_dir = os.path.realpath(os.path.join(data_root, 'derivatives/remodel/backups', 'test_backup'))\n",
    "if os.path.isdir(backup_dir):\n",
    "    print(f\"Warning a backup called {backup_name} already exists so cannot make new one.\")\n",
    "else:\n",
    "    arg_list = [data_root, '-n', 'test_backup', '-x', 'derivatives', 'stimuli',\n",
    "                '-f', 'events', '-e', '.tsv']\n",
    "    cli_backup.main(arg_list)\n",
    "    if os.path.isdir(backup_dir):\n",
    "        print(f\"A backup {backup_name} has been created.\")\n",
    "    else:\n",
    "        print(f\"Backup {backup_name} has failed to be created.\")\n"
   ],
   "metadata": {
    "collapsed": false,
    "pycharm": {
     "name": "#%%\n"
    }
   }
  }
 ],
 "metadata": {
  "kernelspec": {
   "display_name": "Python 3",
   "language": "python",
   "name": "python3"
  },
  "language_info": {
   "codemirror_mode": {
    "name": "ipython",
    "version": 2
   },
   "file_extension": ".py",
   "mimetype": "text/x-python",
   "name": "python",
   "nbconvert_exporter": "python",
   "pygments_lexer": "ipython2",
   "version": "2.7.6"
  }
 },
 "nbformat": 4,
 "nbformat_minor": 0
}