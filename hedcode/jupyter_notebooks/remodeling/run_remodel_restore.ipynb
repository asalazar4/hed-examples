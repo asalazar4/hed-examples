{
 "cells": [
  {
   "cell_type": "markdown",
   "metadata": {
    "collapsed": true,
    "pycharm": {
     "name": "#%% md\n"
    }
   },
   "source": [
    "# Restore event files from a backup\n",
    "\n",
    "This notebook uses `run_remodel_restore(arglist)` to restore the event files from\n",
    "a backup created by `run_remodel_backup`.\n",
    "\n",
    "| parameter | default | dest | other | meaning |\n",
    "| --------- | ------- | ---- | ----- | ------- |\n",
    "| data_dir  |         | data_dir |    | Full path of dataset root directory. |\n",
    "| -n, --backup_name | default_back | backup_name |   | Name of the default backup for remodeling. |\n",
    "| -v, --verbose|   | verbose | action=store_true | If present, output informative messages as computation progresses. |"
   ]
  },
  {
   "cell_type": "code",
   "execution_count": 1,
   "outputs": [],
   "source": [
    "import os\n",
    "import hed.tools.remodeling.cli.run_remodel_restore as cli_restore\n",
    "\n",
    "backup_name = 'test_backup'\n",
    "data_dir = os.path.realpath('../../../datasets/eeg_ds003645s_hed_remodel')\n",
    "arg_list = [data_dir, '-n', backup_name]\n",
    "cli_restore.main(arg_list)"
   ],
   "metadata": {
    "collapsed": false,
    "pycharm": {
     "name": "#%%\n"
    }
   }
  }
 ],
 "metadata": {
  "kernelspec": {
   "display_name": "Python 3",
   "language": "python",
   "name": "python3"
  },
  "language_info": {
   "codemirror_mode": {
    "name": "ipython",
    "version": 2
   },
   "file_extension": ".py",
   "mimetype": "text/x-python",
   "name": "python",
   "nbconvert_exporter": "python",
   "pygments_lexer": "ipython2",
   "version": "2.7.6"
  }
 },
 "nbformat": 4,
 "nbformat_minor": 0
}