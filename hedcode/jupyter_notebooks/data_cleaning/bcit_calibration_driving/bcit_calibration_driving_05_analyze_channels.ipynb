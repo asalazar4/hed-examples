{
 "cells": [
  {
   "cell_type": "markdown",
   "metadata": {
    "collapsed": true,
    "pycharm": {
     "name": "#%% md\n"
    }
   },
   "source": [
    "## Analyze the channels for the Calibration Driving\n",
    "\n",
    "This notebook assumes that a JSON dictionary called `originalChannels.json`\n",
    "has been created in the `/code` subdirectory of the dataset."
   ]
  },
  {
   "cell_type": "code",
   "execution_count": 1,
   "outputs": [
    {
     "name": "stdout",
     "output_type": "stream",
     "text": [
      "\n",
      "\n",
      "Log output:\n",
      "bcit_calibration_driving_05_analyze_channels_log: Level None\n",
      "sub-01_ses-01_task-Drive_run-1_eeg.set:\n",
      "\t[ This key has 119 files with the same 74 channels]\n",
      "\t[ The channels are ['Fp1', 'AF7', 'AF3', 'F1', 'F3', 'F5', 'F7', 'FT7', 'FC5', 'FC3', 'FC1', 'C1', 'C3', 'C5', 'T7', 'TP7', 'CP5', 'CP3', 'CP1', 'P1', 'P3', 'P5', 'P7', 'P9', 'PO7', 'PO3', 'O1', 'Iz', 'Oz', 'POz', 'Pz', 'CPz', 'Fpz', 'Fp2', 'AF8', 'AF4', 'AFz', 'Fz', 'F2', 'F4', 'F6', 'F8', 'FT8', 'FC6', 'FC4', 'FC2', 'FCz', 'Cz', 'C2', 'C4', 'C6', 'T8', 'TP8', 'CP6', 'CP4', 'CP2', 'P2', 'P4', 'P6', 'P8', 'P10', 'PO8', 'PO4', 'O2', 'EXG1', 'EXG2', 'EXG3', 'EXG4', 'EXG5', 'EXG6', 'LN', 'ANG', 'SP', 'SD']]\n",
      "sub-100_ses-01_task-Drive_run-1_eeg.set:\n",
      "\t[ This key has 128 files with the same 266 channels]\n",
      "\t[ The channels are ['A1', 'A2', 'A3', 'A4', 'A5', 'A6', 'A7', 'A8', 'A9', 'A10', 'A11', 'A12', 'A13', 'A14', 'A15', 'A16', 'A17', 'A18', 'A19', 'A20', 'A21', 'A22', 'A23', 'A24', 'A25', 'A26', 'A27', 'A28', 'A29', 'A30', 'A31', 'A32', 'B1', 'B2', 'B3', 'B4', 'B5', 'B6', 'B7', 'B8', 'B9', 'B10', 'B11', 'B12', 'B13', 'B14', 'B15', 'B16', 'B17', 'B18', 'B19', 'B20', 'B21', 'B22', 'B23', 'B24', 'B25', 'B26', 'B27', 'B28', 'B29', 'B30', 'B31', 'B32', 'C1', 'C2', 'C3', 'C4', 'C5', 'C6', 'C7', 'C8', 'C9', 'C10', 'C11', 'C12', 'C13', 'C14', 'C15', 'C16', 'C17', 'C18', 'C19', 'C20', 'C21', 'C22', 'C23', 'C24', 'C25', 'C26', 'C27', 'C28', 'C29', 'C30', 'C31', 'C32', 'D1', 'D2', 'D3', 'D4', 'D5', 'D6', 'D7', 'D8', 'D9', 'D10', 'D11', 'D12', 'D13', 'D14', 'D15', 'D16', 'D17', 'D18', 'D19', 'D20', 'D21', 'D22', 'D23', 'D24', 'D25', 'D26', 'D27', 'D28', 'D29', 'D30', 'D31', 'D32', 'E1', 'E2', 'E3', 'E4', 'E5', 'E6', 'E7', 'E8', 'E9', 'E10', 'E11', 'E12', 'E13', 'E14', 'E15', 'E16', 'E17', 'E18', 'E19', 'E20', 'E21', 'E22', 'E23', 'E24', 'E25', 'E26', 'E27', 'E28', 'E29', 'E30', 'E31', 'E32', 'F1', 'F2', 'F3', 'F4', 'F5', 'F6', 'F7', 'F8', 'F9', 'F10', 'F11', 'F12', 'F13', 'F14', 'F15', 'F16', 'F17', 'F18', 'F19', 'F20', 'F21', 'F22', 'F23', 'F24', 'F25', 'F26', 'F27', 'F28', 'F29', 'F30', 'F31', 'F32', 'G1', 'G2', 'G3', 'G4', 'G5', 'G6', 'G7', 'G8', 'G9', 'G10', 'G11', 'G12', 'G13', 'G14', 'G15', 'G16', 'G17', 'G18', 'G19', 'G20', 'G21', 'G22', 'G23', 'G24', 'G25', 'G26', 'G27', 'G28', 'G29', 'G30', 'G31', 'G32', 'H1', 'H2', 'H3', 'H4', 'H5', 'H6', 'H7', 'H8', 'H9', 'H10', 'H11', 'H12', 'H13', 'H14', 'H15', 'H16', 'H17', 'H18', 'H19', 'H20', 'H21', 'H22', 'H23', 'H24', 'H25', 'H26', 'H27', 'H28', 'H29', 'H30', 'H31', 'H32', 'EXG1', 'EXG2', 'EXG3', 'EXG4', 'EXG5', 'EXG6', 'LN', 'ANG', 'SP', 'SD']]\n",
      "Overall:\n",
      "\t[ Dataset has 316 unique channels]\n",
      "\t[ {'G7', 'CP5', 'G11', 'G2', 'F26', 'H1', 'C16', 'E25', 'B32', 'G32', 'C24', 'D32', 'G23', 'G25', 'C4', 'A19', 'D4', 'H31', 'D13', 'B6', 'E19', 'H18', 'E23', 'F18', 'G21', 'D31', 'D2', 'E26', 'B16', 'C23', 'EXG5', 'A32', 'B22', 'A15', 'H27', 'FCz', 'TP8', 'H11', 'O2', 'G26', 'D16', 'G5', 'G31', 'H5', 'B10', 'H2', 'F29', 'G1', 'P5', 'F10', 'B7', 'C21', 'D15', 'A24', 'P4', 'B5', 'C11', 'FC4', 'E2', 'B14', 'D5', 'B29', 'F22', 'E11', 'F6', 'C3', 'SP', 'C10', 'Pz', 'G24', 'Oz', 'E8', 'C32', 'A4', 'A28', 'F15', 'Fp1', 'H10', 'Cz', 'FC6', 'A9', 'B25', 'FT8', 'E22', 'B13', 'H24', 'H4', 'F16', 'H9', 'D8', 'AFz', 'H29', 'F31', 'A25', 'D1', 'CP6', 'B31', 'E1', 'D9', 'E6', 'SD', 'EXG6', 'B3', 'POz', 'FC5', 'H8', 'E32', 'B24', 'CP2', 'B23', 'D29', 'A27', 'E10', 'E20', 'C7', 'F24', 'CP4', 'H17', 'A17', 'E13', 'FC2', 'F4', 'D22', 'F5', 'P1', 'G30', 'A30', 'C20', 'F28', 'G6', 'F30', 'EXG3', 'D12', 'H30', 'F2', 'F27', 'B27', 'H32', 'A29', 'G12', 'G4', 'B9', 'A23', 'C2', 'A5', 'E4', 'E14', 'G9', 'G15', 'G13', 'E17', 'H14', 'G10', 'A31', 'B20', 'E12', 'A22', 'G27', 'G20', 'H26', 'F7', 'P3', 'FT7', 'G3', 'P10', 'F1', 'E29', 'F23', 'H6', 'B17', 'F21', 'E16', 'A1', 'G19', 'C27', 'D27', 'B21', 'B28', 'F14', 'C17', 'E27', 'H21', 'D26', 'H20', 'C6', 'ANG', 'F17', 'D7', 'B15', 'D11', 'E18', 'F25', 'G17', 'D17', 'D30', 'E3', 'A3', 'Fpz', 'D24', 'Iz', 'A26', 'EXG4', 'P9', 'A20', 'A6', 'AF7', 'F8', 'FC1', 'AF8', 'EXG1', 'PO7', 'F9', 'AF3', 'D19', 'F32', 'B11', 'H19', 'PO4', 'D3', 'H3', 'E9', 'C19', 'PO8', 'H15', 'LN', 'C28', 'F3', 'F13', 'EXG2', 'C8', 'E28', 'C22', 'D6', 'D18', 'F19', 'B18', 'A13', 'H13', 'F12', 'F20', 'D21', 'E5', 'G8', 'P7', 'C5', 'C9', 'O1', 'G28', 'T8', 'A10', 'A16', 'D10', 'H7', 'E31', 'T7', 'B30', 'B12', 'E21', 'A14', 'D23', 'A18', 'B19', 'C25', 'C18', 'C15', 'FC3', 'E7', 'A7', 'A12', 'H12', 'C12', 'P2', 'B8', 'B4', 'A2', 'H25', 'E30', 'C29', 'H28', 'C14', 'H22', 'B1', 'H16', 'A8', 'E24', 'AF4', 'G16', 'P6', 'F11', 'PO3', 'H23', 'C13', 'G14', 'D28', 'G29', 'CP3', 'Fz', 'CP1', 'C31', 'D20', 'D14', 'A11', 'B2', 'G18', 'C26', 'D25', 'P8', 'B26', 'CPz', 'G22', 'TP7', 'E15', 'C1', 'Fp2', 'A21', 'C30'}]\n",
      "\n",
      "\n",
      "ERROR Summary:\n",
      "bcit_calibration_driving_05_analyze_channels_log: Level ERROR\n",
      "sub-01_ses-01_task-Drive_run-1_eeg.set:\n",
      "sub-100_ses-01_task-Drive_run-1_eeg.set:\n",
      "Overall:\n"
     ]
    }
   ],
   "source": [
    "import os\n",
    "import datetime\n",
    "import json\n",
    "from hed.tools import get_file_list, HedLogger\n",
    "\n",
    "# Variables to set for the specific dataset\n",
    "bids_root_path = '/XXX/bcit/CalibrationDrivingWorkingPhaseTwo'\n",
    "exclude_dirs = ['sourcedata', 'stimuli', 'code']\n",
    "entities = ('sub', 'ses', 'run')\n",
    "log_name = 'bcit_calibration_driving_05_analyze_channels_log'\n",
    "channel_file = os.path.realpath(os.path.join(bids_root_path, \"code/channelsOriginal.json\"))\n",
    "\n",
    "# Set up the logger\n",
    "log_file_name = f\"code/curation_logs/{log_name}.txt\"\n",
    "logger = HedLogger(name=log_name)\n",
    "\n",
    "# Load the channels file\n",
    "with open(channel_file, 'r') as fp:\n",
    "    channel_info = json.load(fp)\n",
    "\n",
    "# Make the file list and dictionary for _events\n",
    "eeg_files = get_file_list(bids_root_path, extensions=[\".set\"], name_suffix=\"_eeg\", exclude_dirs=exclude_dirs)\n",
    "\n",
    "# Create the dictionaries of channels\n",
    "key_list = list(channel_info.keys())\n",
    "unique_dict = {}\n",
    "name_dict = {}\n",
    "for file_key, item in channel_info.items():\n",
    "    search_key = None\n",
    "    for skey in name_dict.keys():\n",
    "        if item == channel_info[skey]:\n",
    "            search_key = skey\n",
    "            break\n",
    "    if search_key:\n",
    "        search_values = name_dict[search_key]\n",
    "        name_dict[search_key].append(file_key)\n",
    "    else:\n",
    "        name_dict[file_key] = [file_key]\n",
    "\n",
    "# Now check the order of the elements in the list:\n",
    "all_channels = set\n",
    "for file_key, file_list in name_dict.items():\n",
    "    logger.add(file_key, f\"This key has {len(file_list)} files with the same {len(channel_info[file_key])} channels\")\n",
    "    logger.add(file_key, f\"The channels are {str(channel_info[file_key])}\")\n",
    "\n",
    "\n",
    "key_list = list(name_dict.keys())\n",
    "union_channels = set()\n",
    "inter_channels = set(channel_info[key_list[0]])\n",
    "for file_key in key_list:\n",
    "    union_channels = union_channels.union(set(channel_info[file_key]))\n",
    "    inter_channels = inter_channels.intersection(set(channel_info[file_key]))\n",
    "logger.add(\"Overall\", f\"Dataset has {len(union_channels)} unique channels\")\n",
    "logger.add(\"Overall\", f\"{str(union_channels)}\")\n",
    "\n",
    "# Output and save the log\n",
    "log_string = \"\\n\\nLog output:\\n\" + logger.get_log_string()\n",
    "error_string = \"\\n\\nERROR Summary:\\n\" + logger.get_log_string(level=\"ERROR\")\n",
    "print(log_string)\n",
    "print(error_string)\n",
    "save_path = os.path.join(bids_root_path, log_file_name)\n",
    "with open(save_path, \"w\") as fp:\n",
    "    fp.write(f\"{log_file_name} {datetime.datetime.now()}\\n\")\n",
    "    fp.write(log_string)\n",
    "    fp.write(error_string)"
   ],
   "metadata": {
    "collapsed": false,
    "pycharm": {
     "name": "#%% Create the template for the dataset\n"
    }
   }
  }
 ],
 "metadata": {
  "kernelspec": {
   "display_name": "Python 3",
   "language": "python",
   "name": "python3"
  },
  "language_info": {
   "codemirror_mode": {
    "name": "ipython",
    "version": 2
   },
   "file_extension": ".py",
   "mimetype": "text/x-python",
   "name": "python",
   "nbconvert_exporter": "python",
   "pygments_lexer": "ipython2",
   "version": "2.7.6"
  }
 },
 "nbformat": 4,
 "nbformat_minor": 0
}