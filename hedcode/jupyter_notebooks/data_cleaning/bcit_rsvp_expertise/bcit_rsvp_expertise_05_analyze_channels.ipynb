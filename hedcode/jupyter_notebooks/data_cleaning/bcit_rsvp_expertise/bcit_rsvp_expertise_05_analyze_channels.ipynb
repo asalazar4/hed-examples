{
 "cells": [
  {
   "cell_type": "markdown",
   "metadata": {
    "collapsed": true,
    "pycharm": {
     "name": "#%% md\n"
    }
   },
   "source": [
    "## Analyze the channels for the RSVP Expertise\n",
    "\n",
    "This notebook assumes that a JSON dictionary called `originalChannels.json`\n",
    "has been created in the `/code` subdirectory of the dataset."
   ]
  },
  {
   "cell_type": "code",
   "execution_count": 1,
   "outputs": [
    {
     "name": "stdout",
     "output_type": "stream",
     "text": [
      "\n",
      "\n",
      "Log output:\n",
      "rsvp_expertise_05_analyze_channels_log: Level None\n",
      "sub-01_ses-01_task-RSVPObjectRestBlink_run-1_eeg.set:\n",
      "\t[ This key has 59 files with the same 262 channels]\n",
      "\t[ The channels are ['A1', 'A2', 'A3', 'A4', 'A5', 'A6', 'A7', 'A8', 'A9', 'A10', 'A11', 'A12', 'A13', 'A14', 'A15', 'A16', 'A17', 'A18', 'A19', 'A20', 'A21', 'A22', 'A23', 'A24', 'A25', 'A26', 'A27', 'A28', 'A29', 'A30', 'A31', 'A32', 'B1', 'B2', 'B3', 'B4', 'B5', 'B6', 'B7', 'B8', 'B9', 'B10', 'B11', 'B12', 'B13', 'B14', 'B15', 'B16', 'B17', 'B18', 'B19', 'B20', 'B21', 'B22', 'B23', 'B24', 'B25', 'B26', 'B27', 'B28', 'B29', 'B30', 'B31', 'B32', 'C1', 'C2', 'C3', 'C4', 'C5', 'C6', 'C7', 'C8', 'C9', 'C10', 'C11', 'C12', 'C13', 'C14', 'C15', 'C16', 'C17', 'C18', 'C19', 'C20', 'C21', 'C22', 'C23', 'C24', 'C25', 'C26', 'C27', 'C28', 'C29', 'C30', 'C31', 'C32', 'D1', 'D2', 'D3', 'D4', 'D5', 'D6', 'D7', 'D8', 'D9', 'D10', 'D11', 'D12', 'D13', 'D14', 'D15', 'D16', 'D17', 'D18', 'D19', 'D20', 'D21', 'D22', 'D23', 'D24', 'D25', 'D26', 'D27', 'D28', 'D29', 'D30', 'D31', 'D32', 'E1', 'E2', 'E3', 'E4', 'E5', 'E6', 'E7', 'E8', 'E9', 'E10', 'E11', 'E12', 'E13', 'E14', 'E15', 'E16', 'E17', 'E18', 'E19', 'E20', 'E21', 'E22', 'E23', 'E24', 'E25', 'E26', 'E27', 'E28', 'E29', 'E30', 'E31', 'E32', 'F1', 'F2', 'F3', 'F4', 'F5', 'F6', 'F7', 'F8', 'F9', 'F10', 'F11', 'F12', 'F13', 'F14', 'F15', 'F16', 'F17', 'F18', 'F19', 'F20', 'F21', 'F22', 'F23', 'F24', 'F25', 'F26', 'F27', 'F28', 'F29', 'F30', 'F31', 'F32', 'G1', 'G2', 'G3', 'G4', 'G5', 'G6', 'G7', 'G8', 'G9', 'G10', 'G11', 'G12', 'G13', 'G14', 'G15', 'G16', 'G17', 'G18', 'G19', 'G20', 'G21', 'G22', 'G23', 'G24', 'G25', 'G26', 'G27', 'G28', 'G29', 'G30', 'G31', 'G32', 'H1', 'H2', 'H3', 'H4', 'H5', 'H6', 'H7', 'H8', 'H9', 'H10', 'H11', 'H12', 'H13', 'H14', 'H15', 'H16', 'H17', 'H18', 'H19', 'H20', 'H21', 'H22', 'H23', 'H24', 'H25', 'H26', 'H27', 'H28', 'H29', 'H30', 'H31', 'H32', 'EXG1', 'EXG2', 'EXG3', 'EXG4', 'EXG5', 'EXG6']]\n",
      "Overall:\n",
      "\t[ Dataset has 262 unique channels]\n",
      "\t[ {'D8', 'F20', 'B11', 'G18', 'A2', 'C13', 'H11', 'B13', 'C29', 'H29', 'H31', 'H5', 'C18', 'C20', 'H7', 'F14', 'G14', 'A20', 'H2', 'A4', 'E8', 'B18', 'B21', 'D9', 'B5', 'EXG1', 'A29', 'D4', 'G13', 'H16', 'F9', 'A26', 'E27', 'F13', 'F29', 'B20', 'B24', 'F17', 'D12', 'A17', 'B10', 'C1', 'G27', 'E10', 'D28', 'A32', 'G32', 'B22', 'B23', 'F16', 'F7', 'H14', 'G2', 'C27', 'E12', 'H30', 'H25', 'E21', 'G17', 'H3', 'F11', 'B6', 'F10', 'D13', 'D21', 'B15', 'C21', 'E28', 'H15', 'H21', 'C6', 'G26', 'B32', 'F6', 'D14', 'A14', 'B3', 'H17', 'E5', 'A12', 'E11', 'G4', 'A23', 'G3', 'G1', 'E24', 'F3', 'EXG5', 'E1', 'B4', 'C22', 'C5', 'B25', 'F8', 'H13', 'H20', 'B8', 'A15', 'H24', 'F25', 'A21', 'G8', 'B19', 'H28', 'D15', 'A31', 'D22', 'A27', 'D18', 'H18', 'G23', 'F12', 'F21', 'B2', 'E16', 'F30', 'F1', 'A10', 'C9', 'A11', 'B30', 'D17', 'C23', 'B16', 'G24', 'E20', 'F19', 'F22', 'D26', 'H9', 'D3', 'D2', 'H10', 'D25', 'A25', 'D16', 'C4', 'D20', 'E22', 'B28', 'A7', 'C25', 'G5', 'G11', 'B31', 'H4', 'G20', 'B17', 'B26', 'G29', 'A22', 'C19', 'F2', 'D19', 'E7', 'F31', 'G12', 'H32', 'E30', 'H6', 'H27', 'E29', 'E17', 'G7', 'E31', 'C31', 'F27', 'D24', 'A1', 'E19', 'C11', 'E13', 'A5', 'A9', 'H1', 'C15', 'B7', 'F5', 'H22', 'H23', 'C24', 'F24', 'F32', 'G30', 'C32', 'C16', 'D11', 'H19', 'E4', 'B12', 'H12', 'H8', 'D31', 'E9', 'E26', 'E23', 'EXG6', 'F26', 'C26', 'G28', 'E25', 'E14', 'A19', 'G31', 'G21', 'C28', 'A6', 'G22', 'F18', 'C10', 'D29', 'B1', 'C2', 'B9', 'D23', 'A18', 'E18', 'D7', 'C30', 'D32', 'F15', 'A28', 'A30', 'A24', 'A13', 'E6', 'C8', 'A16', 'G6', 'B29', 'D30', 'F23', 'G16', 'C3', 'B27', 'A3', 'A8', 'G10', 'C17', 'G19', 'F28', 'EXG2', 'C12', 'EXG3', 'E3', 'E32', 'G25', 'E15', 'B14', 'F4', 'C7', 'D1', 'G9', 'E2', 'G15', 'D6', 'H26', 'C14', 'D5', 'D10', 'EXG4', 'D27'}]\n",
      "\n",
      "\n",
      "ERROR Summary:\n",
      "rsvp_expertise_05_analyze_channels_log: Level ERROR\n",
      "sub-01_ses-01_task-RSVPObjectRestBlink_run-1_eeg.set:\n",
      "Overall:\n"
     ]
    }
   ],
   "source": [
    "import os\n",
    "import datetime\n",
    "import json\n",
    "from hed.tools import get_file_list, HedLogger\n",
    "\n",
    "# Variables to set for the specific dataset\n",
    "bids_root_path = '/XXX/bcit/RSVPExpertiseWorkingPhaseTwo'\n",
    "exclude_dirs = ['sourcedata', 'stimuli', 'code']\n",
    "entities = ('sub', 'ses', 'run')\n",
    "log_name = 'rsvp_expertise_05_analyze_channels_log'\n",
    "channel_file = os.path.realpath(os.path.join(bids_root_path, \"code/channelsOriginal.json\"))\n",
    "\n",
    "# Set up the logger\n",
    "log_file_name = f\"code/curation_logs/{log_name}.txt\"\n",
    "logger = HedLogger(name=log_name)\n",
    "\n",
    "# Load the channels file\n",
    "with open(channel_file, 'r') as fp:\n",
    "    channel_info = json.load(fp)\n",
    "\n",
    "# Make the file list and dictionary for _events\n",
    "eeg_files = get_file_list(bids_root_path, extensions=[\".set\"], name_suffix=\"_eeg\", exclude_dirs=exclude_dirs)\n",
    "\n",
    "# Create the dictionaries of channels\n",
    "key_list = list(channel_info.keys())\n",
    "unique_dict = {}\n",
    "name_dict = {}\n",
    "for file_key, item in channel_info.items():\n",
    "    search_key = None\n",
    "    for skey in name_dict.keys():\n",
    "        if item == channel_info[skey]:\n",
    "            search_key = skey\n",
    "            break\n",
    "    if search_key:\n",
    "        search_values = name_dict[search_key]\n",
    "        name_dict[search_key].append(file_key)\n",
    "    else:\n",
    "        name_dict[file_key] = [file_key]\n",
    "\n",
    "# Now check the order of the elements in the list:\n",
    "all_channels = set\n",
    "for file_key, file_list in name_dict.items():\n",
    "    logger.add(file_key, f\"This key has {len(file_list)} files with the same {len(channel_info[file_key])} channels\")\n",
    "    logger.add(file_key, f\"The channels are {str(channel_info[file_key])}\")\n",
    "\n",
    "\n",
    "key_list = list(name_dict.keys())\n",
    "union_channels = set()\n",
    "inter_channels = set(channel_info[key_list[0]])\n",
    "for file_key in key_list:\n",
    "    union_channels = union_channels.union(set(channel_info[file_key]))\n",
    "    inter_channels = inter_channels.intersection(set(channel_info[file_key]))\n",
    "logger.add(\"Overall\", f\"Dataset has {len(union_channels)} unique channels\")\n",
    "logger.add(\"Overall\", f\"{str(union_channels)}\")\n",
    "\n",
    "# Output and save the log\n",
    "log_string = \"\\n\\nLog output:\\n\" + logger.get_log_string()\n",
    "error_string = \"\\n\\nERROR Summary:\\n\" + logger.get_log_string(level=\"ERROR\")\n",
    "print(log_string)\n",
    "print(error_string)\n",
    "save_path = os.path.join(bids_root_path, log_file_name)\n",
    "with open(save_path, \"w\") as fp:\n",
    "    fp.write(f\"{log_file_name} {datetime.datetime.now()}\\n\")\n",
    "    fp.write(log_string)\n",
    "    fp.write(error_string)"
   ],
   "metadata": {
    "collapsed": false,
    "pycharm": {
     "name": "#%% Create the template for the dataset\n"
    }
   }
  }
 ],
 "metadata": {
  "kernelspec": {
   "display_name": "Python 3",
   "language": "python",
   "name": "python3"
  },
  "language_info": {
   "codemirror_mode": {
    "name": "ipython",
    "version": 2
   },
   "file_extension": ".py",
   "mimetype": "text/x-python",
   "name": "python",
   "nbconvert_exporter": "python",
   "pygments_lexer": "ipython2",
   "version": "2.7.6"
  }
 },
 "nbformat": 4,
 "nbformat_minor": 0
}