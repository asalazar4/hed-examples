{
 "cells": [
  {
   "cell_type": "markdown",
   "metadata": {
    "collapsed": true,
    "pycharm": {
     "name": "#%% md\n"
    }
   },
   "source": [
    "## Analyze the channels for the RSVP Baseline\n",
    "\n",
    "This notebook assumes that a JSON dictionary called `originalChannels.json`\n",
    "has been created in the `/code` subdirectory of the dataset."
   ]
  },
  {
   "cell_type": "code",
   "execution_count": 1,
   "outputs": [
    {
     "name": "stdout",
     "output_type": "stream",
     "text": [
      "\n",
      "\n",
      "Log output:\n",
      "rsvp_baseline_05_analyze_channels_log: Level None\n",
      "sub-01_ses-01_task-RSVPRestBlink_run-1_eeg.set:\n",
      "\t[ This key has 31 files with the same 262 channels]\n",
      "\t[ The channels are ['A1', 'A2', 'A3', 'A4', 'A5', 'A6', 'A7', 'A8', 'A9', 'A10', 'A11', 'A12', 'A13', 'A14', 'A15', 'A16', 'A17', 'A18', 'A19', 'A20', 'A21', 'A22', 'A23', 'A24', 'A25', 'A26', 'A27', 'A28', 'A29', 'A30', 'A31', 'A32', 'B1', 'B2', 'B3', 'B4', 'B5', 'B6', 'B7', 'B8', 'B9', 'B10', 'B11', 'B12', 'B13', 'B14', 'B15', 'B16', 'B17', 'B18', 'B19', 'B20', 'B21', 'B22', 'B23', 'B24', 'B25', 'B26', 'B27', 'B28', 'B29', 'B30', 'B31', 'B32', 'C1', 'C2', 'C3', 'C4', 'C5', 'C6', 'C7', 'C8', 'C9', 'C10', 'C11', 'C12', 'C13', 'C14', 'C15', 'C16', 'C17', 'C18', 'C19', 'C20', 'C21', 'C22', 'C23', 'C24', 'C25', 'C26', 'C27', 'C28', 'C29', 'C30', 'C31', 'C32', 'D1', 'D2', 'D3', 'D4', 'D5', 'D6', 'D7', 'D8', 'D9', 'D10', 'D11', 'D12', 'D13', 'D14', 'D15', 'D16', 'D17', 'D18', 'D19', 'D20', 'D21', 'D22', 'D23', 'D24', 'D25', 'D26', 'D27', 'D28', 'D29', 'D30', 'D31', 'D32', 'E1', 'E2', 'E3', 'E4', 'E5', 'E6', 'E7', 'E8', 'E9', 'E10', 'E11', 'E12', 'E13', 'E14', 'E15', 'E16', 'E17', 'E18', 'E19', 'E20', 'E21', 'E22', 'E23', 'E24', 'E25', 'E26', 'E27', 'E28', 'E29', 'E30', 'E31', 'E32', 'F1', 'F2', 'F3', 'F4', 'F5', 'F6', 'F7', 'F8', 'F9', 'F10', 'F11', 'F12', 'F13', 'F14', 'F15', 'F16', 'F17', 'F18', 'F19', 'F20', 'F21', 'F22', 'F23', 'F24', 'F25', 'F26', 'F27', 'F28', 'F29', 'F30', 'F31', 'F32', 'G1', 'G2', 'G3', 'G4', 'G5', 'G6', 'G7', 'G8', 'G9', 'G10', 'G11', 'G12', 'G13', 'G14', 'G15', 'G16', 'G17', 'G18', 'G19', 'G20', 'G21', 'G22', 'G23', 'G24', 'G25', 'G26', 'G27', 'G28', 'G29', 'G30', 'G31', 'G32', 'H1', 'H2', 'H3', 'H4', 'H5', 'H6', 'H7', 'H8', 'H9', 'H10', 'H11', 'H12', 'H13', 'H14', 'H15', 'H16', 'H17', 'H18', 'H19', 'H20', 'H21', 'H22', 'H23', 'H24', 'H25', 'H26', 'H27', 'H28', 'H29', 'H30', 'H31', 'H32', 'EXG1', 'EXG2', 'EXG3', 'EXG4', 'EXG5', 'EXG6']]\n",
      "Overall:\n",
      "\t[ Dataset has 262 unique channels]\n",
      "\t[ {'C30', 'C31', 'B25', 'D14', 'D20', 'E20', 'F4', 'D26', 'E21', 'F22', 'G12', 'G29', 'A16', 'H3', 'F23', 'B15', 'H5', 'D23', 'D18', 'A14', 'G25', 'G31', 'B4', 'F12', 'G14', 'B26', 'E8', 'C5', 'E11', 'D6', 'A31', 'F31', 'B21', 'A32', 'C12', 'EXG1', 'B9', 'G21', 'A27', 'D28', 'G20', 'E19', 'F27', 'EXG6', 'C3', 'C19', 'G32', 'E3', 'F7', 'C28', 'H4', 'C1', 'H21', 'G15', 'D8', 'F18', 'A3', 'B30', 'A11', 'E32', 'B28', 'C7', 'H16', 'H31', 'D11', 'C26', 'G6', 'C17', 'E12', 'G23', 'EXG2', 'G8', 'B3', 'C13', 'F17', 'G18', 'B31', 'D5', 'C23', 'E13', 'F30', 'E10', 'A15', 'D12', 'D21', 'E1', 'A29', 'E16', 'C21', 'C16', 'H14', 'B8', 'D24', 'G2', 'C25', 'F13', 'B10', 'F10', 'G24', 'A12', 'E26', 'H32', 'E30', 'D17', 'E7', 'B6', 'E31', 'H11', 'C15', 'C9', 'F25', 'C29', 'EXG4', 'H24', 'B7', 'D32', 'H22', 'C2', 'A24', 'E15', 'H15', 'D25', 'B5', 'F19', 'C32', 'D4', 'E5', 'F1', 'H27', 'C18', 'H8', 'F28', 'G28', 'F24', 'A13', 'B16', 'B27', 'B12', 'E17', 'B2', 'F14', 'C6', 'B32', 'A7', 'B24', 'D19', 'D7', 'H20', 'B1', 'A23', 'A25', 'B17', 'C20', 'D3', 'A5', 'A4', 'A26', 'G27', 'G26', 'C24', 'D22', 'B22', 'B14', 'H2', 'H25', 'C11', 'E14', 'C4', 'H28', 'EXG5', 'D30', 'A1', 'H26', 'D27', 'G10', 'C27', 'A10', 'A2', 'G13', 'E22', 'G30', 'F20', 'F3', 'G19', 'A8', 'H18', 'A20', 'E28', 'D10', 'F26', 'A19', 'H17', 'G17', 'C8', 'A17', 'F6', 'C14', 'F8', 'H29', 'B11', 'B19', 'E27', 'D2', 'F15', 'G16', 'C22', 'D15', 'E25', 'G7', 'E2', 'H23', 'H7', 'D16', 'G5', 'G1', 'B23', 'F11', 'H10', 'A6', 'F32', 'G9', 'D29', 'H30', 'A18', 'F16', 'F21', 'A21', 'EXG3', 'F2', 'E29', 'F9', 'A28', 'E9', 'G22', 'A9', 'H13', 'A30', 'D31', 'B13', 'E23', 'D9', 'H19', 'E4', 'B18', 'B20', 'H1', 'G3', 'G11', 'H12', 'F5', 'A22', 'C10', 'E6', 'E18', 'E24', 'H9', 'D13', 'F29', 'G4', 'D1', 'B29', 'H6'}]\n",
      "\n",
      "\n",
      "ERROR Summary:\n",
      "rsvp_baseline_05_analyze_channels_log: Level ERROR\n",
      "sub-01_ses-01_task-RSVPRestBlink_run-1_eeg.set:\n",
      "Overall:\n"
     ]
    }
   ],
   "source": [
    "import os\n",
    "import datetime\n",
    "import json\n",
    "from hed.tools import get_file_list, HedLogger\n",
    "\n",
    "# Variables to set for the specific dataset\n",
    "bids_root_path = '/XXX/bcit/RSVPBaselineWorkingPhaseTwo'\n",
    "exclude_dirs = ['sourcedata', 'stimuli', 'code']\n",
    "entities = ('sub', 'ses', 'run')\n",
    "log_name = 'rsvp_baseline_05_analyze_channels_log'\n",
    "channel_file = os.path.realpath(os.path.join(bids_root_path, \"code/channelsOriginal.json\"))\n",
    "\n",
    "# Set up the logger\n",
    "log_file_name = f\"code/curation_logs/{log_name}.txt\"\n",
    "logger = HedLogger(name=log_name)\n",
    "\n",
    "# Load the channels file\n",
    "with open(channel_file, 'r') as fp:\n",
    "    channel_info = json.load(fp)\n",
    "\n",
    "# Make the file list and dictionary for _events\n",
    "eeg_files = get_file_list(bids_root_path, extensions=[\".set\"], name_suffix=\"_eeg\", exclude_dirs=exclude_dirs)\n",
    "\n",
    "# Create the dictionaries of channels\n",
    "key_list = list(channel_info.keys())\n",
    "unique_dict = {}\n",
    "name_dict = {}\n",
    "for file_key, item in channel_info.items():\n",
    "    search_key = None\n",
    "    for skey in name_dict.keys():\n",
    "        if item == channel_info[skey]:\n",
    "            search_key = skey\n",
    "            break\n",
    "    if search_key:\n",
    "        search_values = name_dict[search_key]\n",
    "        name_dict[search_key].append(file_key)\n",
    "    else:\n",
    "        name_dict[file_key] = [file_key]\n",
    "\n",
    "# Now check the order of the elements in the list:\n",
    "all_channels = set\n",
    "for file_key, file_list in name_dict.items():\n",
    "    logger.add(file_key, f\"This key has {len(file_list)} files with the same {len(channel_info[file_key])} channels\")\n",
    "    logger.add(file_key, f\"The channels are {str(channel_info[file_key])}\")\n",
    "\n",
    "\n",
    "key_list = list(name_dict.keys())\n",
    "union_channels = set()\n",
    "inter_channels = set(channel_info[key_list[0]])\n",
    "for file_key in key_list:\n",
    "    union_channels = union_channels.union(set(channel_info[file_key]))\n",
    "    inter_channels = inter_channels.intersection(set(channel_info[file_key]))\n",
    "logger.add(\"Overall\", f\"Dataset has {len(union_channels)} unique channels\")\n",
    "logger.add(\"Overall\", f\"{str(union_channels)}\")\n",
    "\n",
    "# Output and save the log\n",
    "log_string = \"\\n\\nLog output:\\n\" + logger.get_log_string()\n",
    "error_string = \"\\n\\nERROR Summary:\\n\" + logger.get_log_string(level=\"ERROR\")\n",
    "print(log_string)\n",
    "print(error_string)\n",
    "save_path = os.path.join(bids_root_path, log_file_name)\n",
    "with open(save_path, \"w\") as fp:\n",
    "    fp.write(f\"{log_file_name} {datetime.datetime.now()}\\n\")\n",
    "    fp.write(log_string)\n",
    "    fp.write(error_string)"
   ],
   "metadata": {
    "collapsed": false,
    "pycharm": {
     "name": "#%% Create the template for the dataset\n"
    }
   }
  }
 ],
 "metadata": {
  "kernelspec": {
   "display_name": "Python 3",
   "language": "python",
   "name": "python3"
  },
  "language_info": {
   "codemirror_mode": {
    "name": "ipython",
    "version": 2
   },
   "file_extension": ".py",
   "mimetype": "text/x-python",
   "name": "python",
   "nbconvert_exporter": "python",
   "pygments_lexer": "ipython2",
   "version": "2.7.6"
  }
 },
 "nbformat": 4,
 "nbformat_minor": 0
}