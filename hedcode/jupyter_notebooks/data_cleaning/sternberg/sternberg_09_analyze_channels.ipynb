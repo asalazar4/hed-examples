{
 "cells": [
  {
   "cell_type": "markdown",
   "metadata": {
    "collapsed": true,
    "pycharm": {
     "name": "#%% md\n"
    }
   },
   "source": [
    "## Analyze the channels for the Sternberg Data\n",
    "\n",
    "This notebook assumes that a JSON dictionary called `originalChannels.json`\n",
    "has been created in the `\\code` subdirectory of the dataset."
   ]
  },
  {
   "cell_type": "code",
   "execution_count": 1,
   "outputs": [
    {
     "name": "stdout",
     "output_type": "stream",
     "text": [
      "\n",
      "\n",
      "Log output:\n",
      "sternberg_09_analyze_channnels_log: Level None\n",
      "sub-001_ses-01_task-WorkingMemory_run-1_eeg.set:\n",
      "\t[ This key has 47 files with the same 71 channels]\n",
      "\t[ The channels are ['LEYE', 'REYE', 'OZ', 'O2', 'FP1', 'FPZ', 'FP2', 'AF7', 'AF3', 'AFZ', 'AF4', 'AF8', 'F9', 'F7', 'F5', 'F3', 'F1', 'FZ', 'F2', 'F4', 'F6', 'F8', 'F10', 'FT9', 'FT7', 'FC5', 'FC3', 'FC1', 'FCZ', 'FC2', 'FC4', 'FC6', 'FT8', 'FT10', 'T7', 'C5', 'C3', 'C1', 'CZ', 'C2', 'C4', 'C6', 'T8', 'TP9', 'TP7', 'CP5', 'CP3', 'CP1', 'CPZ', 'CP2', 'CP4', 'CP6', 'TP8', 'TP10', 'P7', 'P5', 'P3', 'P1', 'PZ', 'P2', 'P4', 'P6', 'P8', 'PO9', 'PO7', 'PO3', 'POZ', 'PO4', 'PO8', 'PO10', 'O1']]\n",
      "sub-014_ses-01_task-WorkingMemory_run-1_eeg.set:\n",
      "\t[ This key has 38 files with the same 71 channels]\n",
      "\t[ The channels are ['LEYE', 'REYE', 'FP1', 'FPZ', 'FP2', 'AF7', 'AF3', 'AFZ', 'AF4', 'AF8', 'F9', 'F7', 'F5', 'F3', 'F1', 'FZ', 'F2', 'F4', 'F6', 'F8', 'F10', 'FT9', 'FT7', 'FC5', 'FC3', 'FC1', 'FCZ', 'FC2', 'FC4', 'FC6', 'FT8', 'FT10', 'T7', 'C5', 'C3', 'C1', 'CZ', 'C2', 'C4', 'C6', 'T8', 'TP9', 'TP7', 'CP5', 'CP3', 'CP1', 'CPZ', 'CP2', 'CP4', 'CP6', 'TP8', 'TP10', 'P7', 'P5', 'P3', 'P1', 'PZ', 'P2', 'P4', 'P6', 'P8', 'PO9', 'PO7', 'PO3', 'POZ', 'PO4', 'PO8', 'PO10', 'O1', 'OZ', 'O2']]\n",
      "Overall:\n",
      "\t[ Dataset has 71 unique channels]\n",
      "\t[ {'F1', 'P3', 'T7', 'P6', 'POZ', 'PO9', 'AFZ', 'F10', 'P4', 'F2', 'FZ', 'O2', 'FP1', 'FC2', 'FP2', 'PO7', 'TP8', 'FC1', 'TP10', 'PO8', 'FCZ', 'FPZ', 'FC5', 'F3', 'AF3', 'FT7', 'CP2', 'FC6', 'F5', 'TP7', 'CP6', 'PO3', 'PO10', 'CP5', 'P1', 'CPZ', 'F7', 'F4', 'FC3', 'CZ', 'FT9', 'C2', 'P5', 'LEYE', 'AF7', 'C6', 'O1', 'F6', 'FC4', 'AF4', 'CP3', 'C4', 'C1', 'T8', 'CP4', 'PZ', 'AF8', 'P2', 'FT10', 'FT8', 'F9', 'C5', 'REYE', 'OZ', 'F8', 'TP9', 'P8', 'CP1', 'PO4', 'P7', 'C3'}]\n",
      "\n",
      "\n",
      "ERROR Summary:\n",
      "sternberg_09_analyze_channnels_log: Level ERROR\n",
      "sub-001_ses-01_task-WorkingMemory_run-1_eeg.set:\n",
      "sub-014_ses-01_task-WorkingMemory_run-1_eeg.set:\n",
      "Overall:\n"
     ]
    }
   ],
   "source": [
    "import os\n",
    "import datetime\n",
    "import json\n",
    "from hed.tools import get_file_list, HedLogger\n",
    "\n",
    "# Variables to set for the specific dataset\n",
    "bids_root_path = '/XXX/SternbergWorkingPhaseTwo'\n",
    "exclude_dirs = ['sourcedata', 'stimuli', 'code']\n",
    "entities = ('sub', 'ses', 'run')\n",
    "log_name = 'sternberg_09_analyze_channels_log'\n",
    "channel_file = os.path.realpath(os.path.join(bids_root_path, \"code/channelsOriginal.json\"))\n",
    "\n",
    "# Set up the logger\n",
    "log_file_name = f\"code/curation_logs/{log_name}.txt\"\n",
    "logger = HedLogger(name=log_name)\n",
    "\n",
    "# Load the channels file\n",
    "with open(channel_file, 'r') as fp:\n",
    "    channel_info = json.load(fp)\n",
    "\n",
    "# Make the file list and dictionary for _events\n",
    "eeg_files = get_file_list(bids_root_path, extensions=[\".set\"], name_suffix=\"_eeg\", exclude_dirs=exclude_dirs)\n",
    "\n",
    "# Create the dictionaries of channels\n",
    "key_list = list(channel_info.keys())\n",
    "unique_dict = {}\n",
    "name_dict = {}\n",
    "for file_key, item in channel_info.items():\n",
    "    search_key = None\n",
    "    for skey in name_dict.keys():\n",
    "        if item == channel_info[skey]:\n",
    "            search_key = skey\n",
    "            break\n",
    "    if search_key:\n",
    "        search_values = name_dict[search_key]\n",
    "        name_dict[search_key].append(file_key)\n",
    "    else:\n",
    "        name_dict[file_key] = [file_key]\n",
    "\n",
    "# Now check the order of the elements in the list:\n",
    "all_channels = set\n",
    "for file_key, file_list in name_dict.items():\n",
    "    logger.add(file_key, f\"This key has {len(file_list)} files with the same {len(channel_info[file_key])} channels\")\n",
    "    logger.add(file_key, f\"The channels are {str(channel_info[file_key])}\")\n",
    "\n",
    "\n",
    "key_list = list(name_dict.keys())\n",
    "union_channels = set()\n",
    "inter_channels = set(channel_info[key_list[0]])\n",
    "for file_key in key_list:\n",
    "    union_channels = union_channels.union(set(channel_info[file_key]))\n",
    "    inter_channels = inter_channels.intersection(set(channel_info[file_key]))\n",
    "logger.add(\"Overall\", f\"Dataset has {len(union_channels)} unique channels\")\n",
    "logger.add(\"Overall\", f\"{str(union_channels)}\")\n",
    "\n",
    "# Output and save the log\n",
    "log_string = \"\\n\\nLog output:\\n\" + logger.get_log_string()\n",
    "error_string = \"\\n\\nERROR Summary:\\n\" + logger.get_log_string(level=\"ERROR\")\n",
    "print(log_string)\n",
    "print(error_string)\n",
    "save_path = os.path.join(bids_root_path, log_file_name)\n",
    "with open(save_path, \"w\") as fp:\n",
    "    fp.write(f\"{log_file_name} {datetime.datetime.now()}\\n\")\n",
    "    fp.write(log_string)\n",
    "    fp.write(error_string)"
   ],
   "metadata": {
    "collapsed": false,
    "pycharm": {
     "name": "#%% Create the template for the dataset\n"
    }
   }
  }
 ],
 "metadata": {
  "kernelspec": {
   "display_name": "Python 3",
   "language": "python",
   "name": "python3"
  },
  "language_info": {
   "codemirror_mode": {
    "name": "ipython",
    "version": 2
   },
   "file_extension": ".py",
   "mimetype": "text/x-python",
   "name": "python",
   "nbconvert_exporter": "python",
   "pygments_lexer": "ipython2",
   "version": "2.7.6"
  }
 },
 "nbformat": 4,
 "nbformat_minor": 0
}