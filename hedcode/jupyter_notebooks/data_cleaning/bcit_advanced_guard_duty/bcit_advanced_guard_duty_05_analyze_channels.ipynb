{
 "cells": [
  {
   "cell_type": "markdown",
   "metadata": {
    "collapsed": true,
    "pycharm": {
     "name": "#%% md\n"
    }
   },
   "source": [
    "## Analyze the channels for the BCIT Advanced Guard Duty Data\n",
    "\n",
    "This notebook assumes that a JSON dictionary called `originalChannels.json`\n",
    "has been created in the `/code` subdirectory of the dataset."
   ]
  },
  {
   "cell_type": "code",
   "execution_count": 1,
   "outputs": [
    {
     "name": "stdout",
     "output_type": "stream",
     "text": [
      "\n",
      "\n",
      "Log output:\n",
      "bcit_advanced_guard_duty_05_analyze_channels_log: Level None\n",
      "sub-01_ses-01_task-GuardDuty_run-1_eeg.set:\n",
      "\t[ This key has 29 files with the same 262 channels]\n",
      "\t[ The channels are ['A1', 'A2', 'A3', 'A4', 'A5', 'A6', 'A7', 'A8', 'A9', 'A10', 'A11', 'A12', 'A13', 'A14', 'A15', 'A16', 'A17', 'A18', 'A19', 'A20', 'A21', 'A22', 'A23', 'A24', 'A25', 'A26', 'A27', 'A28', 'A29', 'A30', 'A31', 'A32', 'B1', 'B2', 'B3', 'B4', 'B5', 'B6', 'B7', 'B8', 'B9', 'B10', 'B11', 'B12', 'B13', 'B14', 'B15', 'B16', 'B17', 'B18', 'B19', 'B20', 'B21', 'B22', 'B23', 'B24', 'B25', 'B26', 'B27', 'B28', 'B29', 'B30', 'B31', 'B32', 'C1', 'C2', 'C3', 'C4', 'C5', 'C6', 'C7', 'C8', 'C9', 'C10', 'C11', 'C12', 'C13', 'C14', 'C15', 'C16', 'C17', 'C18', 'C19', 'C20', 'C21', 'C22', 'C23', 'C24', 'C25', 'C26', 'C27', 'C28', 'C29', 'C30', 'C31', 'C32', 'D1', 'D2', 'D3', 'D4', 'D5', 'D6', 'D7', 'D8', 'D9', 'D10', 'D11', 'D12', 'D13', 'D14', 'D15', 'D16', 'D17', 'D18', 'D19', 'D20', 'D21', 'D22', 'D23', 'D24', 'D25', 'D26', 'D27', 'D28', 'D29', 'D30', 'D31', 'D32', 'E1', 'E2', 'E3', 'E4', 'E5', 'E6', 'E7', 'E8', 'E9', 'E10', 'E11', 'E12', 'E13', 'E14', 'E15', 'E16', 'E17', 'E18', 'E19', 'E20', 'E21', 'E22', 'E23', 'E24', 'E25', 'E26', 'E27', 'E28', 'E29', 'E30', 'E31', 'E32', 'F1', 'F2', 'F3', 'F4', 'F5', 'F6', 'F7', 'F8', 'F9', 'F10', 'F11', 'F12', 'F13', 'F14', 'F15', 'F16', 'F17', 'F18', 'F19', 'F20', 'F21', 'F22', 'F23', 'F24', 'F25', 'F26', 'F27', 'F28', 'F29', 'F30', 'F31', 'F32', 'G1', 'G2', 'G3', 'G4', 'G5', 'G6', 'G7', 'G8', 'G9', 'G10', 'G11', 'G12', 'G13', 'G14', 'G15', 'G16', 'G17', 'G18', 'G19', 'G20', 'G21', 'G22', 'G23', 'G24', 'G25', 'G26', 'G27', 'G28', 'G29', 'G30', 'G31', 'G32', 'H1', 'H2', 'H3', 'H4', 'H5', 'H6', 'H7', 'H8', 'H9', 'H10', 'H11', 'H12', 'H13', 'H14', 'H15', 'H16', 'H17', 'H18', 'H19', 'H20', 'H21', 'H22', 'H23', 'H24', 'H25', 'H26', 'H27', 'H28', 'H29', 'H30', 'H31', 'H32', 'EXG1', 'EXG2', 'EXG3', 'EXG4', 'EXG5', 'EXG6']]\n",
      "Overall:\n",
      "\t[ Dataset has 262 unique channels]\n",
      "\t[ {'H13', 'E30', 'E3', 'B32', 'F17', 'E2', 'F4', 'C8', 'D19', 'G14', 'F23', 'D14', 'D11', 'B13', 'F20', 'H29', 'E4', 'E5', 'A17', 'EXG3', 'H3', 'E22', 'EXG5', 'F13', 'H1', 'B21', 'F10', 'G6', 'E25', 'B8', 'G25', 'E7', 'G16', 'C31', 'G19', 'G20', 'D21', 'F15', 'B26', 'C21', 'E28', 'A11', 'E15', 'G32', 'F28', 'F6', 'A27', 'C18', 'G5', 'G23', 'H28', 'D9', 'A15', 'D16', 'B1', 'A18', 'B29', 'H32', 'F24', 'H19', 'A22', 'B2', 'B9', 'H15', 'E21', 'G18', 'A28', 'H14', 'E19', 'G7', 'B30', 'F22', 'G15', 'C14', 'G21', 'B22', 'EXG2', 'C10', 'G2', 'B25', 'C25', 'H20', 'B4', 'D24', 'C30', 'A19', 'E23', 'C24', 'B15', 'A3', 'B5', 'H7', 'H16', 'G11', 'G29', 'E18', 'B11', 'C7', 'C15', 'E6', 'C5', 'C4', 'A30', 'D8', 'C2', 'F19', 'G17', 'F27', 'A2', 'H23', 'B3', 'H9', 'D30', 'D22', 'H31', 'F8', 'D4', 'D1', 'D3', 'E26', 'F31', 'H12', 'C16', 'H11', 'C32', 'C29', 'B19', 'A31', 'B14', 'F12', 'D23', 'B31', 'H8', 'F32', 'H22', 'EXG1', 'A14', 'D31', 'D10', 'B10', 'H5', 'D15', 'G26', 'C22', 'E20', 'E29', 'A32', 'A29', 'F14', 'G30', 'F30', 'B27', 'E14', 'B16', 'A9', 'F21', 'A12', 'C27', 'G9', 'A16', 'C28', 'D13', 'F11', 'G10', 'H25', 'G13', 'B20', 'D17', 'E27', 'D28', 'D26', 'D25', 'G22', 'A10', 'A7', 'C9', 'F25', 'B17', 'G24', 'C19', 'D7', 'H27', 'A1', 'E12', 'C23', 'C6', 'G3', 'G8', 'C11', 'E9', 'H17', 'E32', 'G4', 'F2', 'F26', 'F5', 'D29', 'E31', 'H10', 'E24', 'H4', 'C13', 'A8', 'A20', 'H26', 'A26', 'F3', 'B7', 'B23', 'F1', 'G28', 'G1', 'F29', 'A24', 'H6', 'EXG4', 'EXG6', 'F16', 'B12', 'D2', 'F7', 'D5', 'C3', 'F9', 'G31', 'D12', 'D27', 'A25', 'H24', 'E13', 'G12', 'C1', 'E8', 'B6', 'F18', 'H21', 'E17', 'D18', 'A21', 'A5', 'C20', 'H2', 'D32', 'C17', 'C26', 'A23', 'D6', 'E1', 'A6', 'E16', 'H30', 'B24', 'E10', 'B28', 'B18', 'G27', 'A13', 'E11', 'A4', 'C12', 'H18', 'D20'}]\n",
      "\n",
      "\n",
      "ERROR Summary:\n",
      "bcit_advanced_guard_duty_05_analyze_channels_log: Level ERROR\n",
      "sub-01_ses-01_task-GuardDuty_run-1_eeg.set:\n",
      "Overall:\n"
     ]
    }
   ],
   "source": [
    "import os\n",
    "import datetime\n",
    "import json\n",
    "from hed.tools import get_file_list, HedLogger\n",
    "\n",
    "# Variables to set for the specific dataset\n",
    "bids_root_path = '/XXX/bcit/AdvancedGuardDutyWorkingPhaseTwo'\n",
    "exclude_dirs = ['sourcedata', 'stimuli', 'code']\n",
    "entities = ('sub', 'ses', 'run')\n",
    "log_name = 'bcit_advanced_guard_duty_05_analyze_channels_log'\n",
    "channel_file = os.path.realpath(os.path.join(bids_root_path, \"code/channelsOriginal.json\"))\n",
    "\n",
    "# Set up the logger\n",
    "log_file_name = f\"code/curation_logs/{log_name}.txt\"\n",
    "logger = HedLogger(name=log_name)\n",
    "\n",
    "# Load the channels file\n",
    "with open(channel_file, 'r') as fp:\n",
    "    channel_info = json.load(fp)\n",
    "\n",
    "# Make the file list and dictionary for _events\n",
    "eeg_files = get_file_list(bids_root_path, extensions=[\".set\"], name_suffix=\"_eeg\", exclude_dirs=exclude_dirs)\n",
    "\n",
    "# Create the dictionaries of channels\n",
    "key_list = list(channel_info.keys())\n",
    "unique_dict = {}\n",
    "name_dict = {}\n",
    "for file_key, item in channel_info.items():\n",
    "    search_key = None\n",
    "    for skey in name_dict.keys():\n",
    "        if item == channel_info[skey]:\n",
    "            search_key = skey\n",
    "            break\n",
    "    if search_key:\n",
    "        search_values = name_dict[search_key]\n",
    "        name_dict[search_key].append(file_key)\n",
    "    else:\n",
    "        name_dict[file_key] = [file_key]\n",
    "\n",
    "# Now check the order of the elements in the list:\n",
    "all_channels = set\n",
    "for file_key, file_list in name_dict.items():\n",
    "    logger.add(file_key, f\"This key has {len(file_list)} files with the same {len(channel_info[file_key])} channels\")\n",
    "    logger.add(file_key, f\"The channels are {str(channel_info[file_key])}\")\n",
    "\n",
    "\n",
    "key_list = list(name_dict.keys())\n",
    "union_channels = set()\n",
    "inter_channels = set(channel_info[key_list[0]])\n",
    "for file_key in key_list:\n",
    "    union_channels = union_channels.union(set(channel_info[file_key]))\n",
    "    inter_channels = inter_channels.intersection(set(channel_info[file_key]))\n",
    "logger.add(\"Overall\", f\"Dataset has {len(union_channels)} unique channels\")\n",
    "logger.add(\"Overall\", f\"{str(union_channels)}\")\n",
    "\n",
    "# Output and save the log\n",
    "log_string = \"\\n\\nLog output:\\n\" + logger.get_log_string()\n",
    "error_string = \"\\n\\nERROR Summary:\\n\" + logger.get_log_string(level=\"ERROR\")\n",
    "print(log_string)\n",
    "print(error_string)\n",
    "save_path = os.path.join(bids_root_path, log_file_name)\n",
    "with open(save_path, \"w\") as fp:\n",
    "    fp.write(f\"{log_file_name} {datetime.datetime.now()}\\n\")\n",
    "    fp.write(log_string)\n",
    "    fp.write(error_string)"
   ],
   "metadata": {
    "collapsed": false,
    "pycharm": {
     "name": "#%% Create the template for the dataset\n"
    }
   }
  }
 ],
 "metadata": {
  "kernelspec": {
   "display_name": "Python 3",
   "language": "python",
   "name": "python3"
  },
  "language_info": {
   "codemirror_mode": {
    "name": "ipython",
    "version": 2
   },
   "file_extension": ".py",
   "mimetype": "text/x-python",
   "name": "python",
   "nbconvert_exporter": "python",
   "pygments_lexer": "ipython2",
   "version": "2.7.6"
  }
 },
 "nbformat": 4,
 "nbformat_minor": 0
}