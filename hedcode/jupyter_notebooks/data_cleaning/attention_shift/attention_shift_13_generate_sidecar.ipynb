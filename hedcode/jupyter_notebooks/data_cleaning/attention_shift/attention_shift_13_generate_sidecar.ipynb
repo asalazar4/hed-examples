{
 "cells": [
  {
   "cell_type": "markdown",
   "metadata": {
    "collapsed": true,
    "pycharm": {
     "name": "#%% md\n"
    }
   },
   "source": [
    "## Generate a JSON events sidecar template and spreadsheet from a BIDS dataset\n",
    "\n",
    "This generates a JSON events sidecar template and a corresponding 4-column spreadsheet\n",
    "for the AttentionShiftWorkingPhaseTwo data.\n",
    "\n",
    "For tutorial examples of this process see the Jupyter notebooks:\n",
    "- [`bids_generate_sidecar.ipynb`](https://github.com/hed-standard/hed-examples/blob/main/hedcode/jupyter_notebooks/bids_processing/bids_generate_sidecar.ipynb)\n",
    "- [`bids_sidecar_to_spreadsheet.ipynb`](https://github.com/hed-standard/hed-examples/blob/main/hedcode/jupyter_notebooks/bids_processing/bids_sidecar_to_spreadsheet.ipynb)\n"
   ]
  },
  {
   "cell_type": "code",
   "source": [
    "import os\n",
    "import json\n",
    "import datetime\n",
    "from hed.tools import get_file_list, hed_to_df, TabularSummary, HedLogger\n",
    "\n",
    "# Variables to set for the specific dataset\n",
    "bids_root_path = '/XXX/AttentionShiftWorkingPhaseTwo'\n",
    "json_path = os.path.realpath(os.path.join(bids_root_path, 'task-AuditoryVisualShift_events.json'))\n",
    "spreadsheet_path = os.path.realpath(os.path.join(bids_root_path, 'code/task-AuditoryVisualShift_hed_spreadsheet.tsv'))\n",
    "exclude_dirs = ['sourcedata', 'stimuli', 'code']\n",
    "entities = ('sub', 'run')\n",
    "skip_columns = ['onset', 'duration', 'sample', 'event_code', 'cond_code']\n",
    "value_columns = ['trial', 'sub_block']\n",
    "log_name = 'attention_shift_13_generate_sidecar_log'\n",
    "\n",
    "# Set up the logger\n",
    "log_file_name = f\"code/curation_logs/{log_name}.txt\"\n",
    "logger = HedLogger(name=log_name)\n",
    "\n",
    "# Construct the event file dictionaries for the BIDS event files\n",
    "bids_files = get_file_list(bids_root_path, extensions=[\".tsv\"], name_suffix=\"_events\",\n",
    "                           exclude_dirs=exclude_dirs)\n",
    "\n",
    "# Construct the event file value summary and generate a sidecar template representing dataset\n",
    "logger.add(\"overall\", f\"Summarizing {len(bids_files)}\")\n",
    "value_summary = TabularSummary(skip_cols=skip_columns, value_cols=value_columns, name=\"Attention Shift\")\n",
    "value_summary.update(bids_files)\n",
    "sidecar_template = value_summary.extract_sidecar_template()\n",
    "with open(json_path, 'w') as fp:\n",
    "   json.dump(sidecar_template, fp, indent=4)\n",
    "logger.add(\"overall\", f\"Saving a JSON sidecar template to {os.path.basename(json_path)}\")\n",
    "\n",
    "hed_spreadsheet = hed_to_df(sidecar_template)\n",
    "logger.add(\"overall\", f\"Creating a spreadsheet template and saving to {os.path.basename(spreadsheet_path)}\")\n",
    "hed_spreadsheet.to_csv(spreadsheet_path, sep='\\t', index=False,)\n",
    "\n",
    "# Print the log\n",
    "log_string = \"\\n\\nLog output:\\n\" + logger.get_log_string()\n",
    "error_string = \"\\n\\nERROR Summary:\\n\" + logger.get_log_string(level=\"ERROR\")\n",
    "print(log_string)\n",
    "print(error_string)\n",
    "save_path = os.path.join(bids_root_path, log_file_name)\n",
    "with open(save_path, \"w\") as fp:\n",
    "    fp.write(f\"{log_file_name} {datetime.datetime.now()}\\n\")\n",
    "    fp.write(log_string)\n",
    "    fp.write(error_string)"
   ],
   "metadata": {
    "collapsed": false,
    "pycharm": {
     "name": "#%% Set up the directories and create a dictionary for events.tsv files\n"
    }
   },
   "execution_count": 1,
   "outputs": [
    {
     "name": "stdout",
     "output_type": "stream",
     "text": [
      "\n",
      "\n",
      "Log output:\n",
      "attention_shift_13_generate_sidecar_log: Level None\n",
      "overall:\n",
      "\t[ Summarizing 52]\n",
      "\t[ Saving a JSON sidecar template to task-AuditoryVisualShift_events.json]\n",
      "\t[ Creating a spreadsheet template and saving to task-AuditoryVisualShift_hed_spreadsheet.tsv]\n",
      "\n",
      "\n",
      "ERROR Summary:\n",
      "attention_shift_13_generate_sidecar_log: Level ERROR\n",
      "overall:\n"
     ]
    }
   ]
  }
 ],
 "metadata": {
  "kernelspec": {
   "display_name": "Python 3",
   "language": "python",
   "name": "python3"
  },
  "language_info": {
   "codemirror_mode": {
    "name": "ipython",
    "version": 2
   },
   "file_extension": ".py",
   "mimetype": "text/x-python",
   "name": "python",
   "nbconvert_exporter": "python",
   "pygments_lexer": "ipython2",
   "version": "2.7.6"
  }
 },
 "nbformat": 4,
 "nbformat_minor": 0
}
