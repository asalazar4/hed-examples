{
 "cells": [
  {
   "cell_type": "markdown",
   "metadata": {
    "collapsed": true,
    "pycharm": {
     "name": "#%% md\n"
    }
   },
   "source": [
    "## Final summary of event files\n",
    "\n",
    "This script performs a final event summary of the Attention Shift dataset."
   ]
  },
  {
   "cell_type": "code",
   "execution_count": 1,
   "outputs": [
    {
     "name": "stdout",
     "output_type": "stream",
     "text": [
      "\n",
      "Summary of all BIDS events files:\n",
      "Summary for column dictionary :\n",
      "   Categorical columns (7):\n",
      "      attention_status (3 distinct values):\n",
      "         attended: 154180\n",
      "         n/a: 29961\n",
      "         unattended: 102994\n",
      "      cond_code (3 distinct values):\n",
      "         1: 56448\n",
      "         2: 55789\n",
      "         3: 174898\n",
      "      condition (3 distinct values):\n",
      "         attend_auditory: 56448\n",
      "         attend_visual: 55789\n",
      "         shift_attention: 174898\n",
      "      event_code (17 distinct values):\n",
      "         1: 11702\n",
      "         10: 4701\n",
      "         11: 37342\n",
      "         12: 37461\n",
      "         13: 18984\n",
      "         14: 18839\n",
      "         2: 11701\n",
      "         201: 29028\n",
      "         202: 927\n",
      "         255: 6\n",
      "         3: 9296\n",
      "         4: 9301\n",
      "         5: 37171\n",
      "         6: 37167\n",
      "         7: 9405\n",
      "         8: 9407\n",
      "         9: 4697\n",
      "      event_type (9 distinct values):\n",
      "         bad_event: 6\n",
      "         button_press: 29028\n",
      "         dark_bar: 93467\n",
      "         hear_word: 11702\n",
      "         high_tone: 23398\n",
      "         light_bar: 23409\n",
      "         look_word: 11701\n",
      "         low_tone: 93497\n",
      "         pause_recording: 927\n",
      "      focus_modality (3 distinct values):\n",
      "         auditory: 143757\n",
      "         n/a: 38\n",
      "         visual: 143340\n",
      "      task_role (6 distinct values):\n",
      "         cue_auditory: 11724\n",
      "         cue_visual: 11679\n",
      "         frequent_stimulus: 186964\n",
      "         infrequent_stimulus: 46807\n",
      "         n/a: 933\n",
      "         target_detected: 29028\n",
      "   Value columns (0):\n",
      "\n",
      "\n",
      "Log output:\n",
      "attention_shift_12_final_summary_log: Level None\n",
      "\n",
      "\n",
      "ERROR Summary:\n",
      "attention_shift_12_final_summary_log: Level ERROR\n"
     ]
    }
   ],
   "source": [
    "import os\n",
    "import datetime\n",
    "from hed.tools import BidsTabularDictionary, get_file_list, HedLogger, TabularSummary\n",
    "\n",
    "# Variables to set for the specific dataset\n",
    "bids_root_path = '/XXX/AttentionShiftWorkingPhaseTwo'\n",
    "exclude_dirs = ['sourcedata', 'stimuli', 'code']\n",
    "entities = ('sub', 'run')\n",
    "skip_columns = [\"onset\", \"duration\", \"sample\", \"sub_block\", \"trial\"]\n",
    "log_name = 'attention_shift_12_final_summary_log'\n",
    "\n",
    "# Set up the logger\n",
    "log_file_name = f\"code/curation_logs/{log_name}.txt\"\n",
    "logger = HedLogger(name=log_name)\n",
    "\n",
    "# Construct the event file dictionaries for the event files\n",
    "files_bids = get_file_list(bids_root_path, extensions=[\".tsv\"], name_suffix=\"_events\", exclude_dirs=exclude_dirs)\n",
    "bids_dict = BidsTabularDictionary(\"Bids event files\", files_bids, entities=entities)\n",
    "\n",
    "# Create summary dictionaries of the original BIDS events files and output column names\n",
    "bids_sum_all, bids_sum =  TabularSummary.make_combined_dicts(bids_dict, skip_cols=skip_columns)\n",
    "print(f\"\\nSummary of all BIDS events files:\\n{bids_sum_all}\")\n",
    "\n",
    "log_string = \"\\n\\nLog output:\\n\" + logger.get_log_string()\n",
    "error_string = \"\\n\\nERROR Summary:\\n\" + logger.get_log_string(level=\"ERROR\")\n",
    "print(log_string)\n",
    "print(error_string)\n",
    "\n",
    "save_path = os.path.join(bids_root_path, log_file_name)\n",
    "with open(save_path, \"w\") as fp:\n",
    "    fp.write(f\"{log_file_name} {datetime.datetime.now()}\\n\")\n",
    "    fp.write(f\"\\n{bids_sum_all}\\n\")\n",
    "    fp.write(log_string)\n",
    "    fp.write(error_string)"
   ],
   "metadata": {
    "collapsed": false,
    "pycharm": {
     "name": "#%% Set up the variables for producing a summary and construct dictionaries\n"
    }
   }
  }
 ],
 "metadata": {
  "kernelspec": {
   "display_name": "Python 3",
   "language": "python",
   "name": "python3"
  },
  "language_info": {
   "codemirror_mode": {
    "name": "ipython",
    "version": 2
   },
   "file_extension": ".py",
   "mimetype": "text/x-python",
   "name": "python",
   "nbconvert_exporter": "python",
   "pygments_lexer": "ipython2",
   "version": "2.7.6"
  }
 },
 "nbformat": 4,
 "nbformat_minor": 0
}