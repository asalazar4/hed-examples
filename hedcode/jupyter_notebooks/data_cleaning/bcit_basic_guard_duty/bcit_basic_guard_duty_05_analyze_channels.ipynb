{
 "cells": [
  {
   "cell_type": "markdown",
   "metadata": {
    "collapsed": true,
    "pycharm": {
     "name": "#%% md\n"
    }
   },
   "source": [
    "## Analyze the channels for the BCIT Basic Guard Duty Data\n",
    "\n",
    "This notebook assumes that a JSON dictionary called `originalChannels.json`\n",
    "has been created in the `/code` subdirectory of the dataset."
   ]
  },
  {
   "cell_type": "code",
   "execution_count": 1,
   "outputs": [
    {
     "name": "stdout",
     "output_type": "stream",
     "text": [
      "\n",
      "\n",
      "Log output:\n",
      "bcit_basic_guard_duty_05_analyze_channels_log: Level None\n",
      "sub-01_ses-01_task-GuardDuty_run-1_eeg.set:\n",
      "\t[ This key has 22 files with the same 262 channels]\n",
      "\t[ The channels are ['A1', 'A2', 'A3', 'A4', 'A5', 'A6', 'A7', 'A8', 'A9', 'A10', 'A11', 'A12', 'A13', 'A14', 'A15', 'A16', 'A17', 'A18', 'A19', 'A20', 'A21', 'A22', 'A23', 'A24', 'A25', 'A26', 'A27', 'A28', 'A29', 'A30', 'A31', 'A32', 'B1', 'B2', 'B3', 'B4', 'B5', 'B6', 'B7', 'B8', 'B9', 'B10', 'B11', 'B12', 'B13', 'B14', 'B15', 'B16', 'B17', 'B18', 'B19', 'B20', 'B21', 'B22', 'B23', 'B24', 'B25', 'B26', 'B27', 'B28', 'B29', 'B30', 'B31', 'B32', 'C1', 'C2', 'C3', 'C4', 'C5', 'C6', 'C7', 'C8', 'C9', 'C10', 'C11', 'C12', 'C13', 'C14', 'C15', 'C16', 'C17', 'C18', 'C19', 'C20', 'C21', 'C22', 'C23', 'C24', 'C25', 'C26', 'C27', 'C28', 'C29', 'C30', 'C31', 'C32', 'D1', 'D2', 'D3', 'D4', 'D5', 'D6', 'D7', 'D8', 'D9', 'D10', 'D11', 'D12', 'D13', 'D14', 'D15', 'D16', 'D17', 'D18', 'D19', 'D20', 'D21', 'D22', 'D23', 'D24', 'D25', 'D26', 'D27', 'D28', 'D29', 'D30', 'D31', 'D32', 'E1', 'E2', 'E3', 'E4', 'E5', 'E6', 'E7', 'E8', 'E9', 'E10', 'E11', 'E12', 'E13', 'E14', 'E15', 'E16', 'E17', 'E18', 'E19', 'E20', 'E21', 'E22', 'E23', 'E24', 'E25', 'E26', 'E27', 'E28', 'E29', 'E30', 'E31', 'E32', 'F1', 'F2', 'F3', 'F4', 'F5', 'F6', 'F7', 'F8', 'F9', 'F10', 'F11', 'F12', 'F13', 'F14', 'F15', 'F16', 'F17', 'F18', 'F19', 'F20', 'F21', 'F22', 'F23', 'F24', 'F25', 'F26', 'F27', 'F28', 'F29', 'F30', 'F31', 'F32', 'G1', 'G2', 'G3', 'G4', 'G5', 'G6', 'G7', 'G8', 'G9', 'G10', 'G11', 'G12', 'G13', 'G14', 'G15', 'G16', 'G17', 'G18', 'G19', 'G20', 'G21', 'G22', 'G23', 'G24', 'G25', 'G26', 'G27', 'G28', 'G29', 'G30', 'G31', 'G32', 'H1', 'H2', 'H3', 'H4', 'H5', 'H6', 'H7', 'H8', 'H9', 'H10', 'H11', 'H12', 'H13', 'H14', 'H15', 'H16', 'H17', 'H18', 'H19', 'H20', 'H21', 'H22', 'H23', 'H24', 'H25', 'H26', 'H27', 'H28', 'H29', 'H30', 'H31', 'H32', 'EXG1', 'EXG2', 'EXG3', 'EXG4', 'EXG5', 'EXG6']]\n",
      "Overall:\n",
      "\t[ Dataset has 262 unique channels]\n",
      "\t[ {'E17', 'D1', 'C13', 'H3', 'B21', 'G4', 'F27', 'B19', 'F5', 'A10', 'D11', 'B27', 'B13', 'G6', 'C29', 'G31', 'C28', 'C26', 'C1', 'C5', 'G28', 'H4', 'H22', 'A18', 'H16', 'C9', 'D6', 'C4', 'A22', 'B24', 'D28', 'H1', 'E15', 'B31', 'F23', 'H17', 'F31', 'E31', 'A29', 'D19', 'A23', 'C6', 'H8', 'H27', 'EXG1', 'D8', 'A20', 'EXG2', 'G29', 'B3', 'A30', 'E30', 'H6', 'E7', 'A25', 'D10', 'G3', 'G15', 'F24', 'E14', 'D12', 'A21', 'D2', 'G7', 'F17', 'C22', 'A6', 'A26', 'C20', 'F3', 'E12', 'F32', 'C16', 'C27', 'C12', 'B1', 'D31', 'F15', 'H9', 'E1', 'F9', 'C25', 'F7', 'A28', 'A32', 'A3', 'D26', 'F19', 'C32', 'C17', 'H14', 'F28', 'H25', 'F8', 'D13', 'A1', 'A24', 'G8', 'F25', 'A11', 'G20', 'A5', 'H21', 'G1', 'B32', 'H11', 'F20', 'H31', 'F30', 'C10', 'H28', 'G27', 'E11', 'H7', 'A8', 'H20', 'A15', 'F6', 'B8', 'E18', 'A9', 'EXG5', 'G30', 'H23', 'H5', 'F16', 'E24', 'D4', 'D20', 'G11', 'C30', 'E32', 'C18', 'F21', 'D23', 'G18', 'A7', 'H30', 'C11', 'F11', 'G14', 'A14', 'F22', 'E2', 'E19', 'C31', 'G32', 'E6', 'C3', 'G10', 'G23', 'A12', 'A4', 'D27', 'A27', 'E5', 'E28', 'H19', 'E9', 'H24', 'A19', 'C19', 'E27', 'H15', 'H13', 'B7', 'D17', 'B2', 'A16', 'D18', 'A2', 'C8', 'C21', 'G25', 'G21', 'C7', 'D21', 'H10', 'D22', 'F12', 'F2', 'B26', 'A13', 'F1', 'D24', 'E23', 'B11', 'B9', 'F29', 'B16', 'F18', 'G9', 'D14', 'H2', 'A31', 'E26', 'B25', 'B29', 'E21', 'B15', 'B10', 'G17', 'E16', 'B20', 'D25', 'F26', 'E25', 'B22', 'E4', 'B4', 'B30', 'C2', 'D3', 'D30', 'C15', 'E8', 'F10', 'G24', 'E22', 'D15', 'EXG4', 'B17', 'E13', 'G26', 'G22', 'D5', 'G5', 'C24', 'G13', 'F13', 'G16', 'B14', 'D29', 'A17', 'F4', 'C14', 'H29', 'EXG3', 'H12', 'B5', 'D16', 'E3', 'G12', 'D7', 'G2', 'F14', 'C23', 'H32', 'G19', 'B28', 'B23', 'EXG6', 'D32', 'H26', 'B6', 'E10', 'B18', 'B12', 'E29', 'H18', 'D9', 'E20'}]\n",
      "\n",
      "\n",
      "ERROR Summary:\n",
      "bcit_basic_guard_duty_05_analyze_channels_log: Level ERROR\n",
      "sub-01_ses-01_task-GuardDuty_run-1_eeg.set:\n",
      "Overall:\n"
     ]
    }
   ],
   "source": [
    "import os\n",
    "import datetime\n",
    "import json\n",
    "from hed.tools import get_file_list, HedLogger\n",
    "\n",
    "# Variables to set for the specific dataset\n",
    "bids_root_path = '/XXX/bcit/BasicGuardDutyWorkingPhaseTwo'\n",
    "exclude_dirs = ['sourcedata', 'stimuli', 'code']\n",
    "entities = ('sub', 'ses', 'run')\n",
    "log_name = 'bcit_basic_guard_duty_05_analyze_channels_log'\n",
    "channel_file = os.path.realpath(os.path.join(bids_root_path, \"code/channelsOriginal.json\"))\n",
    "\n",
    "# Set up the logger\n",
    "log_file_name = f\"code/curation_logs/{log_name}.txt\"\n",
    "logger = HedLogger(name=log_name)\n",
    "\n",
    "# Load the channels file\n",
    "with open(channel_file, 'r') as fp:\n",
    "    channel_info = json.load(fp)\n",
    "\n",
    "# Make the file list and dictionary for _events\n",
    "eeg_files = get_file_list(bids_root_path, extensions=[\".set\"], name_suffix=\"_eeg\", exclude_dirs=exclude_dirs)\n",
    "\n",
    "# Create the dictionaries of channels\n",
    "key_list = list(channel_info.keys())\n",
    "unique_dict = {}\n",
    "name_dict = {}\n",
    "for file_key, item in channel_info.items():\n",
    "    search_key = None\n",
    "    for skey in name_dict.keys():\n",
    "        if item == channel_info[skey]:\n",
    "            search_key = skey\n",
    "            break\n",
    "    if search_key:\n",
    "        search_values = name_dict[search_key]\n",
    "        name_dict[search_key].append(file_key)\n",
    "    else:\n",
    "        name_dict[file_key] = [file_key]\n",
    "\n",
    "# Now check the order of the elements in the list:\n",
    "all_channels = set\n",
    "for file_key, file_list in name_dict.items():\n",
    "    logger.add(file_key, f\"This key has {len(file_list)} files with the same {len(channel_info[file_key])} channels\")\n",
    "    logger.add(file_key, f\"The channels are {str(channel_info[file_key])}\")\n",
    "\n",
    "\n",
    "key_list = list(name_dict.keys())\n",
    "union_channels = set()\n",
    "inter_channels = set(channel_info[key_list[0]])\n",
    "for file_key in key_list:\n",
    "    union_channels = union_channels.union(set(channel_info[file_key]))\n",
    "    inter_channels = inter_channels.intersection(set(channel_info[file_key]))\n",
    "logger.add(\"Overall\", f\"Dataset has {len(union_channels)} unique channels\")\n",
    "logger.add(\"Overall\", f\"{str(union_channels)}\")\n",
    "\n",
    "# Output and save the log\n",
    "log_string = \"\\n\\nLog output:\\n\" + logger.get_log_string()\n",
    "error_string = \"\\n\\nERROR Summary:\\n\" + logger.get_log_string(level=\"ERROR\")\n",
    "print(log_string)\n",
    "print(error_string)\n",
    "save_path = os.path.join(bids_root_path, log_file_name)\n",
    "with open(save_path, \"w\") as fp:\n",
    "    fp.write(f\"{log_file_name} {datetime.datetime.now()}\\n\")\n",
    "    fp.write(log_string)\n",
    "    fp.write(error_string)"
   ],
   "metadata": {
    "collapsed": false,
    "pycharm": {
     "name": "#%% Perform the calculation.\n"
    }
   }
  }
 ],
 "metadata": {
  "kernelspec": {
   "display_name": "Python 3",
   "language": "python",
   "name": "python3"
  },
  "language_info": {
   "codemirror_mode": {
    "name": "ipython",
    "version": 2
   },
   "file_extension": ".py",
   "mimetype": "text/x-python",
   "name": "python",
   "nbconvert_exporter": "python",
   "pygments_lexer": "ipython2",
   "version": "2.7.6"
  }
 },
 "nbformat": 4,
 "nbformat_minor": 0
}