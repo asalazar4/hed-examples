{
 "cells": [
  {
   "cell_type": "code",
   "execution_count": null,
   "metadata": {
    "collapsed": true,
    "pycharm": {
     "name": "#%%  Remove directories of certain type\n"
    }
   },
   "outputs": [],
   "source": [
    "import os\n",
    "import shutil\n",
    "\n",
    "root_path = '/XXX'\n",
    "\n",
    "dir_list = ['dwi']\n",
    "exclude_dirs = []\n",
    "dirs_to_delete = []\n",
    "for root, dirs, files in os.walk(root_path, topdown=True):\n",
    "    for d in dirs:\n",
    "        if d in dir_list:\n",
    "            dirs_to_delete.append(os.path.realpath(os.path.join(root, d)))\n",
    "\n",
    "for dir_path in dirs_to_delete:\n",
    "    if os.path.exists(dir_path):\n",
    "        shutil.rmtree(dir_path)\n",
    "        print(f\"Removed {dir_path}\")"
   ]
  }
 ],
 "metadata": {
  "kernelspec": {
   "display_name": "Python 3",
   "language": "python",
   "name": "python3"
  },
  "language_info": {
   "codemirror_mode": {
    "name": "ipython",
    "version": 2
   },
   "file_extension": ".py",
   "mimetype": "text/x-python",
   "name": "python",
   "nbconvert_exporter": "python",
   "pygments_lexer": "ipython2",
   "version": "2.7.6"
  }
 },
 "nbformat": 4,
 "nbformat_minor": 0
}