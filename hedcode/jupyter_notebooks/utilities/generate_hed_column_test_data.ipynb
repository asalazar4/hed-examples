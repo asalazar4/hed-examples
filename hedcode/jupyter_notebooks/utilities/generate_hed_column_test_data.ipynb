{
 "cells": [
  {
   "cell_type": "markdown",
   "source": [
    "## Produce the sample dataset with a HED column.\n"
   ],
   "metadata": {
    "collapsed": false,
    "pycharm": {
     "name": "#%% md\n"
    }
   }
  },
  {
   "cell_type": "code",
   "execution_count": 1,
   "outputs": [],
   "source": [
    "import os\n",
    "from hed.models import TabularInput, Sidecar\n",
    "from hed.schema import load_schema_version\n",
    "from hed.tools import assemble_hed, get_file_list\n",
    "\n",
    "# Variables to set for the specific dataset\n",
    "bids_root_path = os.path.realpath('../../../datasets/eeg_ds003645s_hed_column')\n",
    "exclude_dirs = ['sourcedata', 'stimuli', 'code']\n",
    "entities = ('sub', 'run')\n",
    "hed_version = '8.0.0'\n",
    "# Construct the event file dictionaries for the EEG.event files\n",
    "event_files = get_file_list(bids_root_path, extensions=[\".tsv\"], name_suffix=\"_events\", exclude_dirs=exclude_dirs)\n",
    "json_files =  get_file_list(bids_root_path, extensions=[\".json\"], name_suffix=\"_events\", exclude_dirs=exclude_dirs)\n",
    "hed_schema = load_schema_version(xml_version=hed_version)\n",
    "sidecar = Sidecar(json_files[0])\n",
    "additional_cols = ['duration', 'face_type', 'rep_status']\n",
    "for file in event_files:\n",
    "    events = TabularInput(file, sidecar=sidecar)\n",
    "    df, _ = assemble_hed(events, sidecar, hed_schema, columns_included=additional_cols, expand_defs=False)\n",
    "    df.to_csv(file, sep='\\t', index=False)"
   ],
   "metadata": {
    "collapsed": false,
    "pycharm": {
     "name": "#%% Run the script\n"
    }
   }
  }
 ],
 "metadata": {
  "kernelspec": {
   "display_name": "Python 3",
   "language": "python",
   "name": "python3"
  },
  "language_info": {
   "codemirror_mode": {
    "name": "ipython",
    "version": 2
   },
   "file_extension": ".py",
   "mimetype": "text/x-python",
   "name": "python",
   "nbconvert_exporter": "python",
   "pygments_lexer": "ipython2",
   "version": "2.7.6"
  }
 },
 "nbformat": 4,
 "nbformat_minor": 0
}