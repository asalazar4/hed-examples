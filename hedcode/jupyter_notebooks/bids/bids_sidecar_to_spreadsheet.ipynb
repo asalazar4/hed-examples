{
 "cells": [
  {
   "cell_type": "markdown",
   "metadata": {
    "collapsed": true,
    "pycharm": {
     "name": "#%% md\n"
    }
   },
   "source": [
    "## Convert an existing JSON sidecar to spreadsheet format.\n",
    "\n",
    "This notebook creates a 4-column spreadsheet (Pandas dataframe) corresponding\n",
    "to the HED content of a JSON sidecar.\n",
    "This is useful for quickly reviewing and editing HED annotations.\n",
    "You can easily merge the edited information back into the spreadsheet.\n",
    "Here is an example of the spreadsheet that is produced.\n",
    "\n",
    "| **column_name** | **column_value** | **description** | **HED** |\n",
    "| --------------- | ---------------- | --------------- | ------- |\n",
    "| event_type | setup_right_sym | Description for setup_right_sym | Label/setup_right_sym |\n",
    "| event_type | show_face | Description for show_face | Label/show_face |\n",
    "| event_type | left_press | Description for left_press | Label/left_press |\n",
    "| event_type | show_circle | Description for show_circle | Label/show_circle |\n",
    "| stim_file | n/a | Description for stim_file | Label/# |\n",
    "\n",
    "To use this notebook, you will need to provide the path to the JSON sidecar and a path to\n",
    "save the spreadsheet if you want to save it.\n",
    "If you don't wish to save the spreadsheet, assign `spreadsheet_filename` to be None.\n",
    "\n",
    "The example below uses a\n",
    "[small version](https://github.com/hed-standard/hed-examples/tree/main/datasets/eeg_ds003645s_hed)\n",
    "of the Wakeman-Hanson face-processing dataset available on openNeuro as\n",
    "[ds003645](https://openneuro.org/datasets/ds003645/versions/2.0.0)."
   ]
  },
  {
   "cell_type": "code",
   "execution_count": 1,
   "outputs": [
    {
     "name": "stdout",
     "output_type": "stream",
     "text": [
      "Saving the spreadsheet to example_spreadsheet.tsv\n"
     ]
    }
   ],
   "source": [
    "import os\n",
    "import json\n",
    "from hed.tools import hed_to_df\n",
    "\n",
    "json_path =  os.path.realpath('../../../datasets/eeg_ds003645s_hed/task-FacePerception_events.json')\n",
    "spreadsheet_filename = os.path.realpath('../../data/example_spreadsheet.tsv')\n",
    "with open(json_path) as fp:\n",
    "    example_sidecar = json.load(fp)\n",
    "example_spreadsheet = hed_to_df(example_sidecar)\n",
    "if spreadsheet_filename:\n",
    "    print(f\"Saving the spreadsheet to {os.path.basename(spreadsheet_filename)}\")\n",
    "    example_spreadsheet.to_csv(spreadsheet_filename, sep='\\t', index=False,)"
   ],
   "metadata": {
    "collapsed": false,
    "pycharm": {
     "name": "#%% Create a spreadsheet corresponding to a JSON sidecar and save it.\n"
    }
   }
  }
 ],
 "metadata": {
  "kernelspec": {
   "display_name": "Python 3",
   "language": "python",
   "name": "python3"
  },
  "language_info": {
   "codemirror_mode": {
    "name": "ipython",
    "version": 2
   },
   "file_extension": ".py",
   "mimetype": "text/x-python",
   "name": "python",
   "nbconvert_exporter": "python",
   "pygments_lexer": "ipython2",
   "version": "2.7.6"
  }
 },
 "nbformat": 4,
 "nbformat_minor": 0
}