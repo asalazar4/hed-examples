{
 "cells": [
  {
   "cell_type": "markdown",
   "metadata": {
    "collapsed": true,
    "pycharm": {
     "name": "#%% md\n"
    }
   },
   "source": [
    "## Validate HED in a BIDS dataset.\n",
    "\n",
    "Validating annotations HED as you develop them makes the annotation process much easier and\n",
    "faster to debug. This notebook validates HED in a BIDS dataset.\n",
    "\n",
    "The tool creates a `BidsDataset` object, which represents the information from a BIDS\n",
    "dataset that is relevant to HED, including the `dataset_description.json`,\n",
    "all `events.tsv` files, and all `events.json` sidecar files.\n",
    "\n",
    "The `validate` method of `BidsDataset` first validates all of the `events.json` sidecars\n",
    "and then assembles the relevant sidecars for each `events.tsv` file and validates it.\n",
    "The validation uses the HED schemas specified in the `HEDVersion` field of the\n",
    "dataset's `dataset_description.json` file.\n",
    "\n",
    "The script does the following steps for each dataset in the list.\n",
    "\n",
    "1. Set the dataset location (`bids_root_path`) to the absolute path of the root of your BIDS dataset.\n",
    "2. Indicates whether to check for warnings during validation (`check_for_warnings`).\n",
    "3. Create a `BidsDataset` for the dataset.\n",
    "4. Validate the dataset and output the issues.\n",
    "\n",
    "**Note:** This validation pertains to event files and HED annotation only. It does not do a full BIDS validation.\n",
    "\n",
    "The example below validates a list of datasets in\n",
    "[datasets](https://github.com/hed-standard/hed-examples/tree/main/datasets) directory of the\n",
    "HED example repository on GitHub.\n",
    "\n",
    "These datasets have no validation errors."
   ]
  },
  {
   "cell_type": "code",
   "execution_count": 1,
   "outputs": [
    {
     "name": "stdout",
     "output_type": "stream",
     "text": [
      "Using HEDTOOLS version: {'date': '2022-12-20T13:39:39-0600', 'dirty': True, 'error': None, 'full-revisionid': 'b67ae4dbb5914b58662138399caad99f20d2053e', 'version': '0.1.0+166.gb67ae4d.dirty'}\n",
      "HED Examples version: {'version': '0.1.0+168.g42df80c.dirty', 'full-revisionid': '42df80c616f4573d29855efd17b93bbfaa3ce1a4', 'dirty': True, 'error': None, 'date': '2022-12-20T13:07:27-0600'}\n",
      "Validating eeg_ds003645s_hed\n",
      "No HED validation errors\n",
      "Validating eeg_ds003645s_hed_column\n",
      "No HED validation errors\n",
      "Validating eeg_ds003645s_hed_inheritance\n",
      "No HED validation errors\n",
      "Validating eeg_ds003645s_hed_longform\n",
      "No HED validation errors\n",
      "Validating eeg_ds003645s_hed_library\n",
      "No HED validation errors\n",
      "Validating eeg_ds002893s_hed_attention_shift\n",
      "No HED validation errors\n",
      "Validating eeg_ds004117s_hed_sternberg\n",
      "No HED validation errors\n"
     ]
    }
   ],
   "source": [
    "import os\n",
    "from hed.errors import get_printable_issue_string\n",
    "from hed.tools import BidsDataset\n",
    "from hed import _version as vr\n",
    "from hedcode._version import get_versions\n",
    "\n",
    "print(f\"Using HEDTOOLS version: {str(vr.get_versions())}\")\n",
    "print(f\"HED Examples version: {str(get_versions())}\")\n",
    "datasets_dir = '../../../datasets'\n",
    "\n",
    "## Set the dataset locations and the check_for_warnings flag\n",
    "check_for_warnings = False\n",
    "bids_datasets = ['eeg_ds003645s_hed', 'eeg_ds003645s_hed_column',\n",
    "                 'eeg_ds003645s_hed_inheritance', 'eeg_ds003645s_hed_longform',\n",
    "                 'eeg_ds003645s_hed_library', 'eeg_ds002893s_hed_attention_shift',\n",
    "                 'eeg_ds004117s_hed_sternberg'\n",
    "              ]\n",
    "\n",
    "for bids_dataset in bids_datasets:\n",
    "    bids_root_path = os.path.realpath(os.path.join(datasets_dir, bids_dataset))\n",
    "    print(f\"Validating {bids_dataset}\")\n",
    "\n",
    "    ## Validate the dataset\n",
    "    bids = BidsDataset(bids_root_path)\n",
    "    issue_list = bids.validate(check_for_warnings=check_for_warnings)\n",
    "    if issue_list:\n",
    "        issue_str = get_printable_issue_string(issue_list, \"HED validation errors: \", skip_filename=False)\n",
    "    else:\n",
    "        issue_str = \"No HED validation errors\"\n",
    "    print(issue_str)"
   ],
   "metadata": {
    "collapsed": false,
    "pycharm": {
     "name": "#%%\n"
    }
   }
  }
 ],
 "metadata": {
  "kernelspec": {
   "display_name": "Python 3",
   "language": "python",
   "name": "python3"
  },
  "language_info": {
   "codemirror_mode": {
    "name": "ipython",
    "version": 2
   },
   "file_extension": ".py",
   "mimetype": "text/x-python",
   "name": "python",
   "nbconvert_exporter": "python",
   "pygments_lexer": "ipython2",
   "version": "2.7.6"
  }
 },
 "nbformat": 4,
 "nbformat_minor": 0
}