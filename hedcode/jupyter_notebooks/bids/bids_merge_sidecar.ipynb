{
 "cells": [
  {
   "cell_type": "markdown",
   "metadata": {
    "collapsed": true,
    "pycharm": {
     "name": "#%% md\n"
    }
   },
   "source": [
    "## Merge a HED tag spreadsheet with an existing JSON sidecar.\n",
    "\n",
    "This notebook merges a 4-column spreadsheet with an existing JSON sidecar.\n",
    "Although the merge does not require any information except the spreadsheet\n",
    "and the sidecar, this notebook constructs a test by first extracting a JSON\n",
    "sidecar from the information from dataset event files and transforming\n",
    "it into a spreadsheet. The merge is performed by merging this\n",
    "Keys are specified by a `entities` tuple lists the BIDS entity names\n",
    "to include in the key.\n",
    "BIDS base file names are constructed of entity *name*-*value* pairs separated\n",
    "by underbars and followed by an ending *_suffix*.\n",
    "\n",
    "For a file name `sub-001_ses-3_task-target_run-01_events.tsv`,\n",
    "the tuple ('sub', 'task') gives a key of `sub-001_task-target`,\n",
    "while the tuple ('sub', 'ses', 'run) gives a key of `sub-001_ses-3_run-01`.\n",
    "The use of dictionaries of file names with such keys makes it\n",
    "easier to associate related files in the BIDS naming structure.\n",
    "\n",
    "To use this notebook, substitute the specifics of your BIDS\n",
    "dataset for the following variables:\n",
    "\n",
    "| Variable | Purpose |\n",
    "| -------- | ------- |\n",
    "| json_sidecar_path | Full path to root directory of dataset.|\n",
    "| spreadsheet_path | List of directories to exclude when constructing file lists. |\n",
    "| entities  | Tuple of entity names used to construct a unique keys representing filenames. <br>(See [Dictionaries of filenames](https://hed-examples.readthedocs.io/en/latest/HedInPython.html#dictionaries-of-filenames-anchor) for examples of how to choose the keys.)|\n",
    "| skip_columns  | List of columns in the `events.tsv` files to skip in the analysis. |\n",
    "| value_columns | List of columns in the `events.tsv` files to annotate as<br>as a whole rather than by individual column value. |\n",
    "\n",
    "**Note:** To actually do the merge of spreadsheet into a JSON sidecar,\n",
    "you only need to have the file names of the spreadsheet and the JSON sidecar.\n",
    "\n",
    "For large datasets, you will want to be sure to exclude columns such as\n",
    "`onset` and `sample`, since the summary produces counts of the number of times\n",
    "each unique value appears somewhere in an event file.\n",
    "\n",
    "When run, the script extracts a JSON sidecar and converts it to a spreadsheet\n",
    "for illustrating the merge. To merge, the spreadsheet is converted back and then\n",
    "merged with another JSON sidecar.\n",
    "\n",
    "The example below uses a\n",
    "[small version](https://github.com/hed-standard/hed-examples/tree/main/datasets/eeg_ds003645s_hed)\n",
    "of the Wakeman-Hanson face-processing dataset available on openNeuro as\n",
    "[ds003645](https://openneuro.org/datasets/ds003645/versions/2.0.0)."
   ]
  },
  {
   "cell_type": "code",
   "execution_count": null,
   "outputs": [],
   "source": [
    "import os\n",
    "import json\n",
    "from hed.tools import df_to_hed, hed_to_df, merge_hed_dict\n",
    "\n",
    "# Create a test spreadsheet for the merge\n",
    "bids_sidecar_path =  os.path.realpath('../../../datasets/eeg_ds003645s_hed/task-FacePerception_events.json')\n",
    "with open(bids_sidecar_path) as fp:\n",
    "    sidecar_json = json.load(fp)\n",
    "test_spreadsheet = hed_to_df(sidecar_json)\n",
    "\n",
    "# Use an empty sidecar to merge into, but any valid sidecar will work\n",
    "target_sidecar = {}\n",
    "# Must convert the spreadsheet to a sidecar before merging\n",
    "test_sidecar = df_to_hed(test_spreadsheet, description_tag=False)\n",
    "merge_hed_dict(target_sidecar, test_sidecar)\n",
    "merged_json = json.dumps(target_sidecar, indent=4)\n",
    "print(merged_json)"
   ],
   "metadata": {
    "collapsed": false,
    "pycharm": {
     "name": "#%% Extract a JSON sidecar template from all the event files\n"
    }
   }
  }
 ],
 "metadata": {
  "kernelspec": {
   "display_name": "Python 3",
   "language": "python",
   "name": "python3"
  },
  "language_info": {
   "codemirror_mode": {
    "name": "ipython",
    "version": 2
   },
   "file_extension": ".py",
   "mimetype": "text/x-python",
   "name": "python",
   "nbconvert_exporter": "python",
   "pygments_lexer": "ipython2",
   "version": "2.7.6"
  }
 },
 "nbformat": 4,
 "nbformat_minor": 0
}