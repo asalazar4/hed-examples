{
 "cells": [
  {
   "cell_type": "markdown",
   "metadata": {
    "collapsed": true,
    "pycharm": {
     "name": "#%% md\n"
    }
   },
   "source": [
    "## Validate HED in a BIDS dataset that uses library schema.\n",
    "\n",
    "Validating annotations HED as you develop them makes the annotation process much easier and\n",
    "faster to debug. This notebook validates HED in a BIDS dataset.\n",
    "\n",
    "The tool creates a `BidsDataset` object, which represents the information from a BIDS\n",
    "dataset that is relevant to HED, including the `dataset_description.json`,\n",
    "all `events.tsv` files, and all `events.json` sidecar files.\n",
    "\n",
    "The `validate` method of `BidsDataset` first validates all of the `events.json` sidecars\n",
    "and then assembles the relevant sidecars for each `events.tsv` file and validates it.\n",
    "The validation uses the HED schemas specified in the `HEDVersion` field of the\n",
    "dataset's `dataset_description.json` file.\n",
    "\n",
    "The script does the following steps:\n",
    "\n",
    "1. Set the dataset location (`bids_root_path`) to the absolute path of the root of your BIDS dataset.\n",
    "2. Indicates whether to check for warnings during validation (`check_for_warnings`).\n",
    "3. Create a `BidsDataset` for the dataset.\n",
    "4. Validate the dataset and output the issues.\n",
    "\n",
    "**Note:** This validation pertains to event files and HED annotation only. It does not do a full BIDS validation.\n",
    "\n",
    "The example below uses a\n",
    "[small version](https://github.com/hed-standard/hed-examples/tree/main/datasets/eeg_ds003645s_hed)\n",
    "of the Wakeman-Hanson face-processing dataset available on openNeuro as\n",
    "[ds003645](https://openneuro.org/datasets/ds003645/versions/2.0.0).\n",
    "\n",
    "This dataset has no validation errors, but since we have set `check_for_warnings` to `True`,\n",
    "validation returns warnings that the `sample` column does not have any metadata.\n",
    "\n",
    "For validation of a single `events.json` file during annotation development,\n",
    "users often find the [online sidecar tools](https://hedtools.ucsd.edu/hed/sidecar)\n",
    "convenient, but the online tool does not provide complete dataset-level validation."
   ]
  },
  {
   "cell_type": "code",
   "execution_count": 1,
   "outputs": [
    {
     "name": "stdout",
     "output_type": "stream",
     "text": [
      "Handling a BIDS data set that uses dataset_description\n",
      "No HED validation errors when dataset_description is used\n",
      "\n",
      "Now validating with the prerelease schema.\n",
      "No HED validation errors when schemas are passed\n"
     ]
    }
   ],
   "source": [
    "from hed.errors import get_printable_issue_string\n",
    "from hed.schema import HedSchemaGroup, load_schema, load_schema_version\n",
    "from hed.tools import BidsDataset\n",
    "\n",
    "## Set the dataset location and the check_for_warnings flag\n",
    "check_for_warnings = False\n",
    "bids_path = '../../../datasets/eeg_ds003645s_hed_library'\n",
    "bids = BidsDataset(bids_path)\n",
    "\n",
    "## Validate the dataset using the information from the dataset_description\n",
    "print(f\"Handling a BIDS data set that uses dataset_description\")\n",
    "issue_list1 = bids.validate(check_for_warnings=check_for_warnings)\n",
    "if issue_list1:\n",
    "    issue_str1 = get_printable_issue_string(issue_list1, \"HED validation errors: \", skip_filename=False)\n",
    "else:\n",
    "    issue_str1 = \"No HED validation errors when dataset_description is used\"\n",
    "print(issue_str1)\n",
    "\n",
    "## Now validate URLs\n",
    "print(\"\\nNow validating with the prerelease schema.\")\n",
    "base_version = '8.2.0'\n",
    "library1_url = \"https://raw.githubusercontent.com/hed-standard/hed-schemas/main/\" + \\\n",
    "               \"library_schemas/score/hedxml/HED_score_1.0.0.xml\"\n",
    "library2_url = \"https://raw.githubusercontent.com/hed-standard/hed-schemas/main/\" + \\\n",
    "               \"library_schemas/testlib/hedxml/HED_testlib_1.0.2.xml\"\n",
    "schema_list = [load_schema_version(xml_version=base_version),\n",
    "               load_schema(library1_url, schema_namespace=\"sc\"),\n",
    "               load_schema(library2_url, schema_namespace=\"test\")]\n",
    "bids.schema = HedSchemaGroup(schema_list)\n",
    "\n",
    "\n",
    "issue_list2 = bids.validate(check_for_warnings=check_for_warnings)\n",
    "if issue_list2:\n",
    "    issue_str2 = get_printable_issue_string(issue_list2, \"HED validation errors: \", skip_filename=False)\n",
    "else:\n",
    "    issue_str2 = \"No HED validation errors when schemas are passed\"\n",
    "print(issue_str2)"
   ],
   "metadata": {
    "collapsed": false,
    "pycharm": {
     "name": "#%%\n"
    }
   }
  }
 ],
 "metadata": {
  "kernelspec": {
   "display_name": "Python 3",
   "language": "python",
   "name": "python3"
  },
  "language_info": {
   "codemirror_mode": {
    "name": "ipython",
    "version": 2
   },
   "file_extension": ".py",
   "mimetype": "text/x-python",
   "name": "python",
   "nbconvert_exporter": "python",
   "pygments_lexer": "ipython2",
   "version": "2.7.6"
  }
 },
 "nbformat": 4,
 "nbformat_minor": 0
}