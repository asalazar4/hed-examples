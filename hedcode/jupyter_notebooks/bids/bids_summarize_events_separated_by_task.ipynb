{
 "cells": [
  {
   "cell_type": "markdown",
   "metadata": {
    "collapsed": true,
    "pycharm": {
     "name": "#%% md\n"
    }
   },
   "source": [
    "## Summarize the contents of the event files in a BIDS dataset.\n",
    "\n",
    "A first step in annotating a BIDS dataset is to find out what is in the dataset\n",
    "event files.\n",
    "Sometimes event files will have a few unexpected or incorrect codes.\n",
    "It is usually a good idea to find out what is actually in the dataset\n",
    "event files before starting the annotation process.\n",
    "\n",
    "This notebook traverses through the BIDS data set and gathers the unique\n",
    "values for each column and number of times each value appears in the dataset.\n",
    "\n",
    "The script creates dictionaries of `key` to full path\n",
    "for each type of file.  The `key` is of the form `sub-xxx_run-y` which\n",
    "uniquely specify each event file in the dataset. If a dataset contains\n",
    "multiple sessions for each subject, the `key` should include additional\n",
    "parts of the file name to uniquely specify each subject.\n",
    "Keys are specified by a `entities` tuple lists the BIDS entity names\n",
    "to include in the key.\n",
    "BIDS base file names are constructed of entity *name*-*value* pairs separated\n",
    "by underbars and followed by an ending *_suffix*.\n",
    "\n",
    "For a file name `sub-001_ses-3_task-target_run-01_events.tsv`,\n",
    "the tuple ('sub', 'task') gives a key of `sub-001_task-target`,\n",
    "while the tuple ('sub', 'ses', 'run) gives a key of `sub-001_ses-3_run-01`.\n",
    "The use of dictionaries of file names with such keys makes it\n",
    "easier to associate related files in the BIDS naming structure.\n",
    "\n",
    "The setup requires the setting of the following variables for your dataset:\n",
    "\n",
    "| Variable | Purpose |\n",
    "| -------- | ------- |\n",
    "| bids_root_path | Full path to root directory of dataset.|\n",
    "| exclude_dirs | List of directories to exclude when constructing file lists. |\n",
    "| entities  | Tuple of entity names used to construct a unique keys representing filenames. <br>(See [Dictionaries of filenames](https://hed-examples.readthedocs.io/en/latest/HedInPython.html#dictionaries-of-filenames-anchor) for examples of how to choose the keys.)|\n",
    "| skip_columns  |  List of column names in the `events.tsv` files to skip in the analysis. |\n",
    "\n",
    "For large datasets, you will want to be sure to exclude columns such as\n",
    "`onset` and `sample`, since the summary produces counts of the number of times\n",
    "each unique value appears somewhere in an event file.\n",
    "\n",
    "The notebook creates a `TabularSummary` object to handle the summarization.\n",
    "\n",
    "The example below uses a\n",
    "[small version](https://github.com/hed-standard/hed-examples/tree/main/datasets/eeg_ds003645s_hed)\n",
    "of the Wakeman-Hanson face-processing dataset available on openNeuro as\n",
    "[ds003645](https://openneuro.org/datasets/ds003645/versions/2.0.0)\n",
    "which is distributed as part of this dataset."
   ]
  },
  {
   "cell_type": "code",
   "execution_count": 8,
   "outputs": [],
   "source": [
    "import os\n",
    "from hed.tools import TabularSummary, BidsTabularDictionary, get_file_list\n",
    "\n",
    "bids_root_path = '../../../datasets/fmri_ds002790s_hed'\n",
    "exclude_dirs = ['derivatives', 'models']\n",
    "entities = ('sub', 'task')\n",
    "skip_columns = ['onset', 'duration', 'response_time', 'stop_signal_delay']\n",
    "tasks = ['emomatching', 'restingstate', 'stopsignal', 'workingmemory']\n",
    "# tasks = ['stopsignal']\n",
    "name = 'aomic-piop2'\n",
    "# Construct the event file dictionaries for the BIDS and for EEG.event files\n",
    "event_files = get_file_list(bids_root_path, extensions=[\".tsv\"], name_suffix=\"_events\",\n",
    "                            exclude_dirs=exclude_dirs)\n",
    "bids_dict = BidsTabularDictionary(name, event_files, entities=('sub', 'task'))"
   ],
   "metadata": {
    "collapsed": false,
    "pycharm": {
     "name": "#%% Run the summary\n"
    }
   }
  },
  {
   "cell_type": "code",
   "execution_count": 9,
   "outputs": [
    {
     "name": "stdout",
     "output_type": "stream",
     "text": [
      "Dataset tasks are [dict_keys(['stopsignal', 'workingmemory', 'emomatching'])]\n",
      "\n",
      "BIDS-style event files for task stopsignal\n",
      "<hed.tools.bids.bids_tabular_dictionary.BidsTabularDictionary object at 0x000001FD2D580760>\n",
      "\n",
      "BIDS-style event files for task workingmemory\n",
      "<hed.tools.bids.bids_tabular_dictionary.BidsTabularDictionary object at 0x000001FD2D580700>\n",
      "\n",
      "BIDS-style event files for task emomatching\n",
      "<hed.tools.bids.bids_tabular_dictionary.BidsTabularDictionary object at 0x000001FD2D580730>\n"
     ]
    }
   ],
   "source": [
    "task_dicts, leftovers = bids_dict.split_by_entity('task')\n",
    "print(f\"Dataset tasks are [{str(task_dicts.keys())}]\")\n",
    "for task, task_dict in task_dicts.items():\n",
    "    print(f\"\\nBIDS-style event files for task {task}\\n{task_dict}\")\n",
    "\n",
    "if leftovers:\n",
    "    print(f\"\\nThese file did not have a task entity\\n{leftovers}\")"
   ],
   "metadata": {
    "collapsed": false,
    "pycharm": {
     "name": "#%% Split the dictionaries by task and output each individually\n"
    }
   }
  },
  {
   "cell_type": "code",
   "execution_count": 10,
   "outputs": [
    {
     "name": "stdout",
     "output_type": "stream",
     "text": [
      "\n",
      "BIDS-style event file columns:\n",
      "\n",
      "Task stopsignal event file columns:\n",
      "sub-0001_task-stopsignal [100 events]: ['onset', 'duration', 'trial_type', 'stop_signal_delay', 'response_time', 'response_accuracy', 'response_hand', 'sex']\n",
      "sub-0002_task-stopsignal [100 events]: ['onset', 'duration', 'trial_type', 'stop_signal_delay', 'response_time', 'response_accuracy', 'response_hand', 'sex']\n",
      "\n",
      "Task workingmemory event file columns:\n",
      "sub-0001_task-workingmemory [40 events]: ['onset', 'duration', 'trial_type', 'response_accuracy', 'response_time', 'response_hand']\n",
      "sub-0002_task-workingmemory [40 events]: ['onset', 'duration', 'trial_type', 'response_accuracy', 'response_time', 'response_hand']\n",
      "\n",
      "Task emomatching event file columns:\n",
      "sub-0002_task-emomatching [48 events]: ['onset', 'duration', 'trial_type', 'response_time', 'response_hand', 'response_accuracy', 'ori_match', 'sex', 'ethn_target', 'ethn_match', 'ethn_distractor', 'emo_match']\n"
     ]
    }
   ],
   "source": [
    "print(f\"\\nBIDS-style event file columns:\")\n",
    "for task, task_dict in task_dicts.items():\n",
    "    print(f\"\\nTask {task} event file columns:\")\n",
    "    for key, file, rowcount, columns in task_dict.iter_files():\n",
    "        print(f\"{key} [{rowcount} events]: {str(columns)}\")"
   ],
   "metadata": {
    "collapsed": false,
    "pycharm": {
     "name": "#%% Output the column names for each type of event file\n"
    }
   }
  },
  {
   "cell_type": "code",
   "execution_count": 11,
   "outputs": [
    {
     "name": "stdout",
     "output_type": "stream",
     "text": [
      "\n",
      "BIDS events summary counts:\n",
      "\n",
      "BIDS-style event info for task stopsignal:\n",
      "Summary for column dictionary :\n",
      "   Categorical columns (4):\n",
      "      response_accuracy (4 distinct values):\n",
      "         correct: 144\n",
      "         incorrect: 5\n",
      "         miss: 1\n",
      "         n/a: 50\n",
      "      response_hand (2 distinct values):\n",
      "         left: 81\n",
      "         right: 119\n",
      "      sex (2 distinct values):\n",
      "         female: 97\n",
      "         male: 103\n",
      "      trial_type (3 distinct values):\n",
      "         go: 139\n",
      "         succesful_stop: 50\n",
      "         unsuccesful_stop: 11\n",
      "   Value columns (0):\n",
      "\n",
      "BIDS-style event info for task workingmemory:\n",
      "Summary for column dictionary :\n",
      "   Categorical columns (3):\n",
      "      response_accuracy (4 distinct values):\n",
      "         correct: 30\n",
      "         incorrect: 34\n",
      "         miss: 1\n",
      "         n/a: 15\n",
      "      response_hand (2 distinct values):\n",
      "         left: 31\n",
      "         right: 49\n",
      "      trial_type (3 distinct values):\n",
      "         active_change: 32\n",
      "         active_nochange: 32\n",
      "         passive: 16\n",
      "   Value columns (0):\n",
      "\n",
      "BIDS-style event info for task emomatching:\n",
      "Summary for column dictionary :\n",
      "   Categorical columns (9):\n",
      "      emo_match (3 distinct values):\n",
      "         anger: 12\n",
      "         fear: 12\n",
      "         n/a: 24\n",
      "      ethn_distractor (5 distinct values):\n",
      "         asian: 4\n",
      "         black: 8\n",
      "         caucasian: 11\n",
      "         n/a: 24\n",
      "         white: 1\n",
      "      ethn_match (4 distinct values):\n",
      "         asian: 4\n",
      "         black: 8\n",
      "         caucasian: 12\n",
      "         n/a: 24\n",
      "      ethn_target (4 distinct values):\n",
      "         asian: 4\n",
      "         black: 8\n",
      "         caucasian: 12\n",
      "         n/a: 24\n",
      "      ori_match (3 distinct values):\n",
      "         horizontal: 11\n",
      "         n/a: 24\n",
      "         vertical: 13\n",
      "      response_accuracy (2 distinct values):\n",
      "         correct: 4\n",
      "         incorrect: 44\n",
      "      response_hand (2 distinct values):\n",
      "         left: 24\n",
      "         right: 24\n",
      "      sex (3 distinct values):\n",
      "         female: 12\n",
      "         male: 12\n",
      "         n/a: 24\n",
      "      trial_type (2 distinct values):\n",
      "         control: 24\n",
      "         emotion: 24\n",
      "   Value columns (0):\n"
     ]
    }
   ],
   "source": [
    "print('\\nBIDS events summary counts:')\n",
    "for task, task_dict in task_dicts.items():\n",
    "    dicts_all, dicts_sep = TabularSummary.make_combined_dicts(task_dict.file_dict, skip_cols=skip_columns)\n",
    "    print(f\"\\nBIDS-style event info for task {task}:\\n{dicts_all}\")"
   ],
   "metadata": {
    "collapsed": false,
    "pycharm": {
     "name": "#%% Create summary dictionaries of the original BIDS events files and output column names\n"
    }
   }
  }
 ],
 "metadata": {
  "kernelspec": {
   "display_name": "Python 3",
   "language": "python",
   "name": "python3"
  },
  "language_info": {
   "codemirror_mode": {
    "name": "ipython",
    "version": 2
   },
   "file_extension": ".py",
   "mimetype": "text/x-python",
   "name": "python",
   "nbconvert_exporter": "python",
   "pygments_lexer": "ipython2",
   "version": "2.7.6"
  }
 },
 "nbformat": 4,
 "nbformat_minor": 0
}